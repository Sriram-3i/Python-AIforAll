{
  "nbformat": 4,
  "nbformat_minor": 5,
  "metadata": {
    "kernelspec": {
      "display_name": "Python 3",
      "language": "python",
      "name": "python3"
    },
    "language_info": {
      "codemirror_mode": {
        "name": "ipython",
        "version": 3
      },
      "file_extension": ".py",
      "mimetype": "text/x-python",
      "name": "python",
      "nbconvert_exporter": "python",
      "pygments_lexer": "ipython3",
      "version": "3.8.5"
    },
    "colab": {
      "name": "Data Structure.ipynb",
      "provenance": [],
      "collapsed_sections": [
        "TVLr1hr-VyyE"
      ],
      "include_colab_link": true
    }
  },
  "cells": [
    {
      "cell_type": "markdown",
      "metadata": {
        "id": "view-in-github",
        "colab_type": "text"
      },
      "source": [
        "<a href=\"https://colab.research.google.com/github/Sriram-3i/Python-AIforAll/blob/main/Data_Structure.ipynb\" target=\"_parent\"><img src=\"https://colab.research.google.com/assets/colab-badge.svg\" alt=\"Open In Colab\"/></a>"
      ]
    },
    {
      "cell_type": "markdown",
      "metadata": {
        "id": "1CpzlHmdVyxM"
      },
      "source": [
        "# <center> <u>Data Structures <u> </center>"
      ],
      "id": "1CpzlHmdVyxM"
    },
    {
      "cell_type": "markdown",
      "metadata": {
        "id": "ZyVWjB7WVyxV"
      },
      "source": [
        "## 1. Lists\n",
        "\n",
        "Reference:- https://www.youtube.com/watch?v=ohCDWZgNIU0\n"
      ],
      "id": "ZyVWjB7WVyxV"
    },
    {
      "cell_type": "markdown",
      "metadata": {
        "id": "NEizqpkaVyxX"
      },
      "source": [
        "<p style='text-align: right;'> 1+1+1 = 3 points</p>\n"
      ],
      "id": "NEizqpkaVyxX"
    },
    {
      "cell_type": "markdown",
      "metadata": {
        "id": "7huD-WiQVyxY"
      },
      "source": [
        "#### 1.1 Create an empty list with the name ‘a’, print the value of a and type(a).\n"
      ],
      "id": "7huD-WiQVyxY"
    },
    {
      "cell_type": "code",
      "metadata": {
        "id": "PHmRZJRAVyxZ"
      },
      "source": [
        "# create empty list, name it 'a'\n",
        "a= []\n"
      ],
      "id": "PHmRZJRAVyxZ",
      "execution_count": null,
      "outputs": []
    },
    {
      "cell_type": "code",
      "metadata": {
        "colab": {
          "base_uri": "https://localhost:8080/"
        },
        "id": "D15G6mTkVyxb",
        "outputId": "36088d9b-784e-4b00-c57a-d50174e84174"
      },
      "source": [
        "# print the value of a\n",
        "\n",
        "print (a)"
      ],
      "id": "D15G6mTkVyxb",
      "execution_count": null,
      "outputs": [
        {
          "output_type": "stream",
          "text": [
            "[]\n"
          ],
          "name": "stdout"
        }
      ]
    },
    {
      "cell_type": "code",
      "metadata": {
        "colab": {
          "base_uri": "https://localhost:8080/"
        },
        "id": "bxYnFYurVyxe",
        "outputId": "9a7aa8fb-f709-42a9-c2d2-2ed7b2581e63"
      },
      "source": [
        "# print the type of a\n",
        "\n",
        "print (type(a))"
      ],
      "id": "bxYnFYurVyxe",
      "execution_count": null,
      "outputs": [
        {
          "output_type": "stream",
          "name": "stdout",
          "text": [
            "<class 'list'>\n"
          ]
        }
      ]
    },
    {
      "cell_type": "markdown",
      "metadata": {
        "id": "zVIGs-5LVyxf"
      },
      "source": [
        "#### 1.2.Create a list , languages = ['R','Python', 'SAS', 'Scala', 42], "
      ],
      "id": "zVIGs-5LVyxf"
    },
    {
      "cell_type": "markdown",
      "metadata": {
        "id": "W0T6Ha6mVyxh"
      },
      "source": [
        "<p style='text-align: right;'> 1+1+1+1+1+1+1+1 = 7 points</p>\n"
      ],
      "id": "W0T6Ha6mVyxh"
    },
    {
      "cell_type": "code",
      "metadata": {
        "id": "JLwdWka5Vyxj"
      },
      "source": [
        "#code here\n",
        "languages = ['R','Python', 'SAS', 'Scala', 42]"
      ],
      "id": "JLwdWka5Vyxj",
      "execution_count": null,
      "outputs": []
    },
    {
      "cell_type": "markdown",
      "metadata": {
        "id": "9QcJ89PoVyxl"
      },
      "source": [
        "Print the number of elements in the list"
      ],
      "id": "9QcJ89PoVyxl"
    },
    {
      "cell_type": "code",
      "metadata": {
        "colab": {
          "base_uri": "https://localhost:8080/"
        },
        "id": "wvbZsApoVyxm",
        "outputId": "40800e6b-84fd-45b3-c868-5658397be8f6"
      },
      "source": [
        "#code here\n",
        "len(languages)"
      ],
      "id": "wvbZsApoVyxm",
      "execution_count": null,
      "outputs": [
        {
          "output_type": "execute_result",
          "data": {
            "text/plain": [
              "5"
            ]
          },
          "metadata": {
            "tags": []
          },
          "execution_count": 7
        }
      ]
    },
    {
      "cell_type": "markdown",
      "metadata": {
        "id": "hsfEAg72Vyxn"
      },
      "source": [
        "Using for loop iterate and print all the elements in the list"
      ],
      "id": "hsfEAg72Vyxn"
    },
    {
      "cell_type": "code",
      "metadata": {
        "colab": {
          "base_uri": "https://localhost:8080/"
        },
        "id": "iw8a7B6bVyxn",
        "outputId": "4b8b2f7e-e496-4faf-cb72-92018ac013d4"
      },
      "source": [
        "#code here\n",
        "for i in languages:\n",
        "  print (i)\n"
      ],
      "id": "iw8a7B6bVyxn",
      "execution_count": null,
      "outputs": [
        {
          "output_type": "stream",
          "text": [
            "R\n",
            "Python\n",
            "SAS\n",
            "Scala\n",
            "42\n"
          ],
          "name": "stdout"
        }
      ]
    },
    {
      "cell_type": "markdown",
      "metadata": {
        "id": "qeVOEu-fVyxo"
      },
      "source": [
        "Select the second item, 'Python' and store it in a new variable named 'temp'"
      ],
      "id": "qeVOEu-fVyxo"
    },
    {
      "cell_type": "code",
      "metadata": {
        "id": "LJqDD12aVyxp"
      },
      "source": [
        "#code here\n",
        "temp = languages[1]"
      ],
      "id": "LJqDD12aVyxp",
      "execution_count": null,
      "outputs": []
    },
    {
      "cell_type": "markdown",
      "metadata": {
        "id": "z4bDmNk0Vyxp"
      },
      "source": [
        "Print the value of temp and type(temp)"
      ],
      "id": "z4bDmNk0Vyxp"
    },
    {
      "cell_type": "code",
      "metadata": {
        "colab": {
          "base_uri": "https://localhost:8080/"
        },
        "id": "JpAs0QH9Vyxq",
        "outputId": "d83ae5db-82c7-4d22-f2c2-3c8b4a34f207"
      },
      "source": [
        "#code here\n",
        "print (temp)\n",
        "print (type(temp))\n"
      ],
      "id": "JpAs0QH9Vyxq",
      "execution_count": null,
      "outputs": [
        {
          "output_type": "stream",
          "text": [
            "Python\n",
            "<class 'str'>\n"
          ],
          "name": "stdout"
        }
      ]
    },
    {
      "cell_type": "markdown",
      "metadata": {
        "id": "ZrX2qkH1Vyxq"
      },
      "source": [
        "Using list comprehension, print the last two elemets of list"
      ],
      "id": "ZrX2qkH1Vyxq"
    },
    {
      "cell_type": "code",
      "metadata": {
        "colab": {
          "base_uri": "https://localhost:8080/"
        },
        "id": "IakPGplfVyxr",
        "outputId": "39f907b8-65b2-4ebc-e332-0201bc5f4763"
      },
      "source": [
        "# code here\n",
        "print (languages[len(languages)-2:len(languages)])"
      ],
      "id": "IakPGplfVyxr",
      "execution_count": null,
      "outputs": [
        {
          "output_type": "stream",
          "text": [
            "['Scala', 42]\n"
          ],
          "name": "stdout"
        }
      ]
    },
    {
      "cell_type": "markdown",
      "metadata": {
        "id": "kQfyZgVZVyxs"
      },
      "source": [
        "Append the element 'Java' in the list"
      ],
      "id": "kQfyZgVZVyxs"
    },
    {
      "cell_type": "code",
      "metadata": {
        "id": "Xz3zCt_FVyxt"
      },
      "source": [
        "#code here\n",
        "languages.append('Java')"
      ],
      "id": "Xz3zCt_FVyxt",
      "execution_count": null,
      "outputs": []
    },
    {
      "cell_type": "markdown",
      "metadata": {
        "id": "cPp_ieFaVyxt"
      },
      "source": [
        "Remove the element 42 from the list and print the list"
      ],
      "id": "cPp_ieFaVyxt"
    },
    {
      "cell_type": "code",
      "metadata": {
        "colab": {
          "base_uri": "https://localhost:8080/"
        },
        "id": "p-HfwCsNVyxu",
        "outputId": "ef67c07e-99b9-4415-d9c0-d92f09b3387d"
      },
      "source": [
        "#code here\n",
        "languages.remove(42)\n",
        "print(languages)"
      ],
      "id": "p-HfwCsNVyxu",
      "execution_count": null,
      "outputs": [
        {
          "output_type": "stream",
          "text": [
            "['R', 'Python', 'SAS', 'Scala', 'Java']\n"
          ],
          "name": "stdout"
        }
      ]
    },
    {
      "cell_type": "markdown",
      "metadata": {
        "id": "UPulNxNFVyxu"
      },
      "source": [
        "#### 1.3. Create a list, colors = [‘Red’, ‘Blue’, ‘White’]"
      ],
      "id": "UPulNxNFVyxu"
    },
    {
      "cell_type": "markdown",
      "metadata": {
        "id": "2-xK3F5FVyxv"
      },
      "source": [
        "<p style='text-align: right;'> 1+1+1+1+1+1+1 = 6 points</p>\n"
      ],
      "id": "2-xK3F5FVyxv"
    },
    {
      "cell_type": "code",
      "metadata": {
        "id": "NrFPNUMnVyxv"
      },
      "source": [
        "#code here\n",
        "colors = ['Red', 'Blue', 'White']\n"
      ],
      "id": "NrFPNUMnVyxv",
      "execution_count": null,
      "outputs": []
    },
    {
      "cell_type": "markdown",
      "metadata": {
        "id": "6LGwlAFsVyxv"
      },
      "source": [
        "Append the element 'Black' to colors"
      ],
      "id": "6LGwlAFsVyxv"
    },
    {
      "cell_type": "code",
      "metadata": {
        "id": "x1hEObeKVyxw"
      },
      "source": [
        "#code here\n",
        "colors.append('Black')"
      ],
      "id": "x1hEObeKVyxw",
      "execution_count": null,
      "outputs": []
    },
    {
      "cell_type": "markdown",
      "metadata": {
        "id": "8jWTrrhVVyxw"
      },
      "source": [
        "Append the color 'Orange' to second position (index=1) and print the list"
      ],
      "id": "8jWTrrhVVyxw"
    },
    {
      "cell_type": "code",
      "metadata": {
        "id": "4rDfYA2MVyxw"
      },
      "source": [
        "# code here\n",
        "colors.insert(1,'Orange')"
      ],
      "id": "4rDfYA2MVyxw",
      "execution_count": null,
      "outputs": []
    },
    {
      "cell_type": "markdown",
      "metadata": {
        "id": "IBxbtboMVyxx"
      },
      "source": [
        "Print the list\n"
      ],
      "id": "IBxbtboMVyxx"
    },
    {
      "cell_type": "code",
      "metadata": {
        "colab": {
          "base_uri": "https://localhost:8080/"
        },
        "id": "gNpG3fdkVyxx",
        "outputId": "ec5ed051-98f3-4d99-bf29-f4bdb2172c29"
      },
      "source": [
        "# code here\n",
        "print(colors)"
      ],
      "id": "gNpG3fdkVyxx",
      "execution_count": null,
      "outputs": [
        {
          "output_type": "stream",
          "text": [
            "['Red', 'Orange', 'Blue', 'White', 'Black', 'Black']\n"
          ],
          "name": "stdout"
        }
      ]
    },
    {
      "cell_type": "markdown",
      "metadata": {
        "id": "2csMs-JQVyxy"
      },
      "source": [
        "Create another list, colors2 = [‘Grey’, ‘Sky Blue’]"
      ],
      "id": "2csMs-JQVyxy"
    },
    {
      "cell_type": "code",
      "metadata": {
        "id": "f-qVMq94Vyxy"
      },
      "source": [
        "# code here\n",
        "colors2 = ['Grey','Sky Blue']"
      ],
      "id": "f-qVMq94Vyxy",
      "execution_count": null,
      "outputs": []
    },
    {
      "cell_type": "markdown",
      "metadata": {
        "id": "mmzC3VHFVyxz"
      },
      "source": [
        "Add the elements of colors2 to colors using extend function in the list"
      ],
      "id": "mmzC3VHFVyxz"
    },
    {
      "cell_type": "code",
      "metadata": {
        "id": "LciroAmsVyxz"
      },
      "source": [
        "#code here\n",
        "colors.extend(colors2)\n"
      ],
      "id": "LciroAmsVyxz",
      "execution_count": null,
      "outputs": []
    },
    {
      "cell_type": "markdown",
      "metadata": {
        "id": "r5-oUCuHVyxz"
      },
      "source": [
        "Print len of colors and its elements"
      ],
      "id": "r5-oUCuHVyxz"
    },
    {
      "cell_type": "code",
      "metadata": {
        "colab": {
          "base_uri": "https://localhost:8080/"
        },
        "id": "olXkQxL1Vyx0",
        "outputId": "15f10154-e23c-48d8-a2aa-0df549e835b3"
      },
      "source": [
        "# code here\n",
        "print (len(colors))\n",
        "\n",
        "print (colors)\n",
        "\n"
      ],
      "id": "olXkQxL1Vyx0",
      "execution_count": null,
      "outputs": [
        {
          "output_type": "stream",
          "text": [
            "7\n",
            "['Red', 'Orange', 'Blue', 'White', 'Black', 'Grey', 'Sky Blue']\n"
          ],
          "name": "stdout"
        }
      ]
    },
    {
      "cell_type": "markdown",
      "metadata": {
        "id": "r7kYMStHVyx0"
      },
      "source": [
        "Sort the list and print it."
      ],
      "id": "r7kYMStHVyx0"
    },
    {
      "cell_type": "code",
      "metadata": {
        "colab": {
          "base_uri": "https://localhost:8080/"
        },
        "id": "RDr1jLDDVyx1",
        "outputId": "0c7ea419-a351-46bb-9b14-73a58a11899e"
      },
      "source": [
        "# code here\n",
        "colors.sort()\n",
        "print(colors)\n"
      ],
      "id": "RDr1jLDDVyx1",
      "execution_count": null,
      "outputs": [
        {
          "output_type": "stream",
          "text": [
            "['Black', 'Blue', 'Grey', 'Orange', 'Red', 'Sky Blue', 'White']\n"
          ],
          "name": "stdout"
        }
      ]
    },
    {
      "cell_type": "markdown",
      "metadata": {
        "id": "1YRjWzHaVyx1"
      },
      "source": [
        "#### 1.4. Create a string, sent = ‘Coronavirus Caused Lockdowns Around The World.”"
      ],
      "id": "1YRjWzHaVyx1"
    },
    {
      "cell_type": "markdown",
      "metadata": {
        "id": "kMJk45NCVyx2"
      },
      "source": [
        "<p style='text-align: right;'> 7 points</p>\n"
      ],
      "id": "kMJk45NCVyx2"
    },
    {
      "cell_type": "code",
      "metadata": {
        "id": "u4gn7BDtVyx2"
      },
      "source": [
        "# code here\n",
        "sent = 'Coronavirus Caused Lockdowns Around The World.'"
      ],
      "id": "u4gn7BDtVyx2",
      "execution_count": 25,
      "outputs": []
    },
    {
      "cell_type": "markdown",
      "metadata": {
        "id": "gxpYvbibVyx2"
      },
      "source": [
        "Use split function to convert the string into a list of words and save it in variable words and print the same"
      ],
      "id": "gxpYvbibVyx2"
    },
    {
      "cell_type": "code",
      "metadata": {
        "colab": {
          "base_uri": "https://localhost:8080/"
        },
        "id": "squVVO31Vyx2",
        "outputId": "82ea6594-624b-4f3c-c932-9823c64949f2"
      },
      "source": [
        "# code here\n",
        "s= sent.split(\" \")\n",
        "print (list(sent.split(\" \")))"
      ],
      "id": "squVVO31Vyx2",
      "execution_count": null,
      "outputs": [
        {
          "output_type": "stream",
          "name": "stdout",
          "text": [
            "['Coronavirus', 'Caused', 'Lockdowns', 'Around', 'The', 'World.']\n"
          ]
        }
      ]
    },
    {
      "cell_type": "markdown",
      "metadata": {
        "id": "2CNtq3EmVyx3"
      },
      "source": [
        "Using list comprehensions, convert each word in the list to lower case and store it in variable words_lower. \n",
        "Print words_lower"
      ],
      "id": "2CNtq3EmVyx3"
    },
    {
      "cell_type": "code",
      "metadata": {
        "colab": {
          "base_uri": "https://localhost:8080/"
        },
        "id": "_v3plfGeVyx3",
        "outputId": "8dcd0bbc-31b1-4cff-ec0f-8de8a27c6aca"
      },
      "source": [
        "# code here\n",
        "words_lower = []\n",
        "\n",
        "words_lower = [x.lower() for x in sent.split(\" \")]\n",
        "print (words_lower)"
      ],
      "id": "_v3plfGeVyx3",
      "execution_count": null,
      "outputs": [
        {
          "output_type": "stream",
          "text": [
            "['coronavirus', 'caused', 'lockdowns', 'around', 'the', 'world.']\n"
          ],
          "name": "stdout"
        }
      ]
    },
    {
      "cell_type": "markdown",
      "metadata": {
        "id": "o68e9b5BVyx4"
      },
      "source": [
        "Check whether ‘country’ is in the list"
      ],
      "id": "o68e9b5BVyx4"
    },
    {
      "cell_type": "code",
      "metadata": {
        "colab": {
          "base_uri": "https://localhost:8080/"
        },
        "id": "8IScVxS7Vyx5",
        "outputId": "0573392a-2432-484c-8971-c8a13c5391ca"
      },
      "source": [
        "# code here\n",
        "if sent.find('country') == -1:\n",
        "    print(\"False\")"
      ],
      "id": "8IScVxS7Vyx5",
      "execution_count": null,
      "outputs": [
        {
          "output_type": "stream",
          "text": [
            "False\n"
          ],
          "name": "stdout"
        }
      ]
    },
    {
      "cell_type": "markdown",
      "metadata": {
        "id": "_KPdUd5UVyx6"
      },
      "source": [
        "Remove the element ‘the’ from the list and print the list."
      ],
      "id": "_KPdUd5UVyx6"
    },
    {
      "cell_type": "code",
      "metadata": {
        "colab": {
          "base_uri": "https://localhost:8080/",
          "height": 217
        },
        "id": "DozcO57qVyx6",
        "outputId": "2e07359e-e5a0-4045-ce63-9cc75553641e"
      },
      "source": [
        "# code here\n",
        "print(s)\n",
        "s.remove('The')\n",
        "print(s)\n"
      ],
      "id": "DozcO57qVyx6",
      "execution_count": null,
      "outputs": [
        {
          "output_type": "error",
          "ename": "NameError",
          "evalue": "ignored",
          "traceback": [
            "\u001b[0;31m---------------------------------------------------------------------------\u001b[0m",
            "\u001b[0;31mNameError\u001b[0m                                 Traceback (most recent call last)",
            "\u001b[0;32m<ipython-input-2-664060f83a76>\u001b[0m in \u001b[0;36m<module>\u001b[0;34m()\u001b[0m\n\u001b[1;32m      1\u001b[0m \u001b[0;31m# code here\u001b[0m\u001b[0;34m\u001b[0m\u001b[0;34m\u001b[0m\u001b[0;34m\u001b[0m\u001b[0m\n\u001b[0;32m----> 2\u001b[0;31m \u001b[0mprint\u001b[0m\u001b[0;34m(\u001b[0m\u001b[0ms\u001b[0m\u001b[0;34m)\u001b[0m\u001b[0;34m\u001b[0m\u001b[0;34m\u001b[0m\u001b[0m\n\u001b[0m\u001b[1;32m      3\u001b[0m \u001b[0ms\u001b[0m\u001b[0;34m.\u001b[0m\u001b[0mremove\u001b[0m\u001b[0;34m(\u001b[0m\u001b[0;34m'The'\u001b[0m\u001b[0;34m)\u001b[0m\u001b[0;34m\u001b[0m\u001b[0;34m\u001b[0m\u001b[0m\n\u001b[1;32m      4\u001b[0m \u001b[0mprint\u001b[0m\u001b[0;34m(\u001b[0m\u001b[0ms\u001b[0m\u001b[0;34m)\u001b[0m\u001b[0;34m\u001b[0m\u001b[0;34m\u001b[0m\u001b[0m\n",
            "\u001b[0;31mNameError\u001b[0m: name 's' is not defined"
          ]
        }
      ]
    },
    {
      "cell_type": "markdown",
      "metadata": {
        "id": "tfao3OxGVyx6"
      },
      "source": [
        "Select the first 4 words from the list words_lower using slicing and store them in a new variable x4"
      ],
      "id": "tfao3OxGVyx6"
    },
    {
      "cell_type": "code",
      "metadata": {
        "id": "Po20c4xfVyx7"
      },
      "source": [
        "#code here\n",
        "\n",
        "x4= words_lower[0:4]"
      ],
      "id": "Po20c4xfVyx7",
      "execution_count": null,
      "outputs": []
    },
    {
      "cell_type": "code",
      "metadata": {
        "colab": {
          "base_uri": "https://localhost:8080/"
        },
        "id": "z-SnuMY2Vyx7",
        "outputId": "ac621d08-e033-4135-f74b-2fde77018122"
      },
      "source": [
        "# print x4\n",
        "print(x4)"
      ],
      "id": "z-SnuMY2Vyx7",
      "execution_count": null,
      "outputs": [
        {
          "output_type": "stream",
          "text": [
            "['coronavirus', 'caused', 'lockdowns', 'around']\n"
          ],
          "name": "stdout"
        }
      ]
    },
    {
      "cell_type": "markdown",
      "metadata": {
        "id": "r7FkM4W6Vyx7"
      },
      "source": [
        "Convert the list of elements to single string using join function and print it"
      ],
      "id": "r7FkM4W6Vyx7"
    },
    {
      "cell_type": "code",
      "metadata": {
        "id": "TF4hNENVVyx8",
        "outputId": "62ba1471-3547-42f2-be19-497951e43ae2",
        "colab": {
          "base_uri": "https://localhost:8080/"
        }
      },
      "source": [
        "#code here\n",
        "sent = \"\".join(sent)\n",
        "  \n",
        "# join use to join a list of\n",
        "# strings to a separator s\n",
        "print(sent)"
      ],
      "id": "TF4hNENVVyx8",
      "execution_count": null,
      "outputs": [
        {
          "output_type": "stream",
          "name": "stdout",
          "text": [
            "C o r o n a v i r u s   C a u s e d   L o c k d o w n s   A r o u n d   T h e   W o r l d .\n"
          ]
        }
      ]
    },
    {
      "cell_type": "markdown",
      "metadata": {
        "id": "Mh5P3hDgVyx8"
      },
      "source": [
        "## 2. Sets\n",
        "\n",
        "Reference:-https://www.youtube.com/watch?v=sBvaPopWOmQ"
      ],
      "id": "Mh5P3hDgVyx8"
    },
    {
      "cell_type": "markdown",
      "metadata": {
        "id": "70UFEK4HVyx8"
      },
      "source": [
        "#### 2.1. Create stud_grades = ['A','A','B','C','C','F']"
      ],
      "id": "70UFEK4HVyx8"
    },
    {
      "cell_type": "markdown",
      "metadata": {
        "id": "ZXzK8jPbVyx8"
      },
      "source": [
        "<p style='text-align: right;'> 7 points</p>\n"
      ],
      "id": "ZXzK8jPbVyx8"
    },
    {
      "cell_type": "code",
      "metadata": {
        "id": "LuMX8JzaVyx8"
      },
      "source": [
        "#code here\n",
        "stud_grades = (['A','A','B','C','C','F'])"
      ],
      "id": "LuMX8JzaVyx8",
      "execution_count": null,
      "outputs": []
    },
    {
      "cell_type": "markdown",
      "metadata": {
        "id": "bSy3mnRWVyx9"
      },
      "source": [
        "Print the len of stud_grades"
      ],
      "id": "bSy3mnRWVyx9"
    },
    {
      "cell_type": "code",
      "metadata": {
        "id": "Q9MhnNNOVyx9",
        "outputId": "acbfb993-310c-410e-bca1-5d6df0b8a818",
        "colab": {
          "base_uri": "https://localhost:8080/"
        }
      },
      "source": [
        "#code here\n",
        "len(stud_grades)"
      ],
      "id": "Q9MhnNNOVyx9",
      "execution_count": null,
      "outputs": [
        {
          "output_type": "execute_result",
          "data": {
            "text/plain": [
              "6"
            ]
          },
          "metadata": {},
          "execution_count": 15
        }
      ]
    },
    {
      "cell_type": "markdown",
      "metadata": {
        "id": "Pt9NmpRYVyx9"
      },
      "source": [
        "Create a new variable, stud_grades_set = set(stud_grades)"
      ],
      "id": "Pt9NmpRYVyx9"
    },
    {
      "cell_type": "code",
      "metadata": {
        "id": "NPtRhtMPVyx9"
      },
      "source": [
        "#code here\n",
        "stud_grades_set = set(stud_grades)\n"
      ],
      "id": "NPtRhtMPVyx9",
      "execution_count": null,
      "outputs": []
    },
    {
      "cell_type": "markdown",
      "metadata": {
        "id": "AOJMWAfDVyx9"
      },
      "source": [
        "Print stud_grades_set. "
      ],
      "id": "AOJMWAfDVyx9"
    },
    {
      "cell_type": "code",
      "metadata": {
        "id": "QXbezRWmVyx9",
        "outputId": "f5ad98c8-d265-4530-950a-a0974dd20233",
        "colab": {
          "base_uri": "https://localhost:8080/"
        }
      },
      "source": [
        "#code here\n",
        "print (stud_grades_set)"
      ],
      "id": "QXbezRWmVyx9",
      "execution_count": null,
      "outputs": [
        {
          "output_type": "stream",
          "name": "stdout",
          "text": [
            "{'B', 'C', 'A', 'F'}\n"
          ]
        }
      ]
    },
    {
      "cell_type": "markdown",
      "metadata": {
        "id": "t7p774fAVyx9"
      },
      "source": [
        "print the type of stud_grades and stud_grades_set and print their corresponding elements. Try to understand the difference between them."
      ],
      "id": "t7p774fAVyx9"
    },
    {
      "cell_type": "code",
      "metadata": {
        "id": "UbTRM2tLVyx-",
        "outputId": "7152d551-2b8e-4141-9484-0ce13a4994fe",
        "colab": {
          "base_uri": "https://localhost:8080/"
        }
      },
      "source": [
        "#code here\n",
        "print(type(stud_grades),stud_grades)\n",
        "print(type(stud_grades_set),stud_grades_set)"
      ],
      "id": "UbTRM2tLVyx-",
      "execution_count": null,
      "outputs": [
        {
          "output_type": "stream",
          "name": "stdout",
          "text": [
            "<class 'list'> ['A', 'A', 'B', 'C', 'C', 'F']\n",
            "<class 'set'> {'B', 'C', 'A', 'F'}\n"
          ]
        }
      ]
    },
    {
      "cell_type": "markdown",
      "metadata": {
        "id": "LRxXKOBAVyx-"
      },
      "source": [
        "Add a new element ‘G’ to stud_grades_set"
      ],
      "id": "LRxXKOBAVyx-"
    },
    {
      "cell_type": "code",
      "metadata": {
        "id": "CLIn_GaQVyx-"
      },
      "source": [
        "#code here\n",
        "\n",
        "stud_grades_set.add('G')"
      ],
      "id": "CLIn_GaQVyx-",
      "execution_count": null,
      "outputs": []
    },
    {
      "cell_type": "markdown",
      "metadata": {
        "id": "myWMAfGyVyx-"
      },
      "source": [
        "Add element 'F' to stud_grades_set. and print it."
      ],
      "id": "myWMAfGyVyx-"
    },
    {
      "cell_type": "code",
      "metadata": {
        "id": "oLJrVjXPVyx-",
        "outputId": "3d8c6843-70af-48f1-a1f4-58ecb5c73e2d",
        "colab": {
          "base_uri": "https://localhost:8080/"
        }
      },
      "source": [
        "#code here\n",
        "stud_grades_set.add('F')\n",
        "print (stud_grades_set)\n"
      ],
      "id": "oLJrVjXPVyx-",
      "execution_count": null,
      "outputs": [
        {
          "output_type": "stream",
          "name": "stdout",
          "text": [
            "{'F', 'B', 'A', 'C', 'G'}\n"
          ]
        }
      ]
    },
    {
      "cell_type": "markdown",
      "metadata": {
        "id": "1M0Eh5tcVyx-"
      },
      "source": [
        "!!Did you notice? set doesn't add an element if it's already present in it, unlike lists."
      ],
      "id": "1M0Eh5tcVyx-"
    },
    {
      "cell_type": "markdown",
      "metadata": {
        "id": "WypkjBdAVyx_"
      },
      "source": [
        "Remove ‘F’ from stud_grades_set"
      ],
      "id": "WypkjBdAVyx_"
    },
    {
      "cell_type": "code",
      "metadata": {
        "id": "TXIT5WmOVyx_"
      },
      "source": [
        "#code here\n",
        "stud_grades_set.remove('F')\n"
      ],
      "id": "TXIT5WmOVyx_",
      "execution_count": null,
      "outputs": []
    },
    {
      "cell_type": "markdown",
      "metadata": {
        "id": "hX2JFpKxVyx_"
      },
      "source": [
        "Print the elements and the length of stud_grades_set"
      ],
      "id": "hX2JFpKxVyx_"
    },
    {
      "cell_type": "code",
      "metadata": {
        "id": "xuPglFMfVyx_",
        "outputId": "711cf360-48fc-4acc-d930-b4c68a4b2794",
        "colab": {
          "base_uri": "https://localhost:8080/"
        }
      },
      "source": [
        "#code here\n",
        "print (stud_grades_set)\n",
        "print (len(stud_grades_set))"
      ],
      "id": "xuPglFMfVyx_",
      "execution_count": null,
      "outputs": [
        {
          "output_type": "stream",
          "name": "stdout",
          "text": [
            "{'B', 'A', 'C', 'G'}\n",
            "4\n"
          ]
        }
      ]
    },
    {
      "cell_type": "markdown",
      "metadata": {
        "id": "P7CvGej3Vyx_"
      },
      "source": [
        "#### 2.2. Create colors = [‘red’,’blue’,’orange’], and fruits = [‘orange’,’grapes’,’apples’] "
      ],
      "id": "P7CvGej3Vyx_"
    },
    {
      "cell_type": "markdown",
      "metadata": {
        "id": "2DlNxyu3Vyx_"
      },
      "source": [
        "<p style='text-align: right;'> 6 points</p>\n"
      ],
      "id": "2DlNxyu3Vyx_"
    },
    {
      "cell_type": "code",
      "metadata": {
        "id": "S-5e4fzZVyyA"
      },
      "source": [
        "#code here\n",
        "\n",
        "colors = ['red','blue','orange']\n",
        "fruits = ['orange','grapes','apples']"
      ],
      "id": "S-5e4fzZVyyA",
      "execution_count": 2,
      "outputs": []
    },
    {
      "cell_type": "markdown",
      "metadata": {
        "id": "edinXI4dVyyA"
      },
      "source": [
        "Print color and fruits"
      ],
      "id": "edinXI4dVyyA"
    },
    {
      "cell_type": "code",
      "metadata": {
        "id": "gVo0uZ3vVyyA",
        "outputId": "b8fe755c-47c4-4c0e-c4b6-cfec27c5eb72",
        "colab": {
          "base_uri": "https://localhost:8080/"
        }
      },
      "source": [
        "#code here\n",
        "print (colors)\n",
        "print (fruits)"
      ],
      "id": "gVo0uZ3vVyyA",
      "execution_count": 3,
      "outputs": [
        {
          "output_type": "stream",
          "name": "stdout",
          "text": [
            "['red', 'blue', 'orange']\n",
            "['orange', 'grapes', 'apples']\n"
          ]
        }
      ]
    },
    {
      "cell_type": "markdown",
      "metadata": {
        "id": "g3UlvY2mVyyA"
      },
      "source": [
        "Create colors_set, and fruits_set. (using set() ) and print them"
      ],
      "id": "g3UlvY2mVyyA"
    },
    {
      "cell_type": "code",
      "metadata": {
        "id": "mb3BUQM4VyyA",
        "outputId": "0df3adda-039a-48c0-84aa-8e0726221198",
        "colab": {
          "base_uri": "https://localhost:8080/"
        }
      },
      "source": [
        "#code here\n",
        "colors_set = set(colors)\n",
        "fruits_set = set(fruits)\n",
        "\n",
        "print(set(colors))\n",
        "print(set(fruits))\n"
      ],
      "id": "mb3BUQM4VyyA",
      "execution_count": 5,
      "outputs": [
        {
          "output_type": "stream",
          "name": "stdout",
          "text": [
            "{'red', 'blue', 'orange'}\n",
            "{'grapes', 'orange', 'apples'}\n"
          ]
        }
      ]
    },
    {
      "cell_type": "markdown",
      "metadata": {
        "id": "u9XnAh6VVyyA"
      },
      "source": [
        "Find the union of both the sets."
      ],
      "id": "u9XnAh6VVyyA"
    },
    {
      "cell_type": "code",
      "metadata": {
        "id": "RmC3SfqRVyyB",
        "outputId": "700f0c6e-7a90-4c4d-d873-b7c051cdee17",
        "colab": {
          "base_uri": "https://localhost:8080/"
        }
      },
      "source": [
        "#code here\n",
        "\n",
        "print (colors_set.union(fruits_set) )"
      ],
      "id": "RmC3SfqRVyyB",
      "execution_count": 8,
      "outputs": [
        {
          "output_type": "stream",
          "name": "stdout",
          "text": [
            "{'red', 'blue', 'grapes', 'orange', 'apples'}\n"
          ]
        }
      ]
    },
    {
      "cell_type": "markdown",
      "metadata": {
        "id": "fP69g2iMVyyB"
      },
      "source": [
        "Find the intersection of both the sets "
      ],
      "id": "fP69g2iMVyyB"
    },
    {
      "cell_type": "code",
      "metadata": {
        "id": "RFERHiG6VyyB",
        "outputId": "3e0e4f95-6d01-4d38-e906-4a0895acc0e4",
        "colab": {
          "base_uri": "https://localhost:8080/"
        }
      },
      "source": [
        "#code here\n",
        "print (colors_set.intersection(fruits_set) )\n"
      ],
      "id": "RFERHiG6VyyB",
      "execution_count": 9,
      "outputs": [
        {
          "output_type": "stream",
          "name": "stdout",
          "text": [
            "{'orange'}\n"
          ]
        }
      ]
    },
    {
      "cell_type": "markdown",
      "metadata": {
        "id": "y6h4Rjr2VyyB"
      },
      "source": [
        "Find the elements which are Fruits but not colors (using set.difference() )"
      ],
      "id": "y6h4Rjr2VyyB"
    },
    {
      "cell_type": "code",
      "metadata": {
        "id": "YGxZQdDFVyyB",
        "outputId": "076274fd-6c1b-4830-eb83-f32d51e464c6",
        "colab": {
          "base_uri": "https://localhost:8080/"
        }
      },
      "source": [
        "#code here\n",
        "\n",
        "print (fruits_set.difference(colors_set) )"
      ],
      "id": "YGxZQdDFVyyB",
      "execution_count": 11,
      "outputs": [
        {
          "output_type": "stream",
          "name": "stdout",
          "text": [
            "{'grapes', 'apples'}\n"
          ]
        }
      ]
    },
    {
      "cell_type": "markdown",
      "metadata": {
        "id": "MuAjcah9VyyB"
      },
      "source": [
        "## 3. TUPLES\n",
        "\n",
        "Reference:-https://www.youtube.com/watch?v=NI26dqhs2Rk"
      ],
      "id": "MuAjcah9VyyB"
    },
    {
      "cell_type": "markdown",
      "metadata": {
        "id": "40N-AwqOVyyC"
      },
      "source": [
        "#### 3.1 . Create temp = [17, ’Virat’, 50.0]"
      ],
      "id": "40N-AwqOVyyC"
    },
    {
      "cell_type": "markdown",
      "metadata": {
        "id": "QeLEOlMLVyyC"
      },
      "source": [
        "<p style='text-align: right;'> 7 points</p>\n"
      ],
      "id": "QeLEOlMLVyyC"
    },
    {
      "cell_type": "code",
      "metadata": {
        "id": "VdxhPQHFVyyC"
      },
      "source": [
        "#code here\n",
        "temp = [17, 'Virat', 50.0]\n",
        "\n"
      ],
      "id": "VdxhPQHFVyyC",
      "execution_count": 2,
      "outputs": []
    },
    {
      "cell_type": "markdown",
      "metadata": {
        "id": "68xb8n5jVyyC"
      },
      "source": [
        "Iterate through temp and print all the items in temp"
      ],
      "id": "68xb8n5jVyyC"
    },
    {
      "cell_type": "code",
      "metadata": {
        "id": "2--lM9upVyyC",
        "outputId": "035b95f2-8906-4030-bea9-5b800a2ea608",
        "colab": {
          "base_uri": "https://localhost:8080/"
        }
      },
      "source": [
        "#code here\n",
        "for i in temp:\n",
        "  print(i)\n",
        "\n"
      ],
      "id": "2--lM9upVyyC",
      "execution_count": 4,
      "outputs": [
        {
          "output_type": "stream",
          "name": "stdout",
          "text": [
            "17\n",
            "Virat\n",
            "50.0\n"
          ]
        }
      ]
    },
    {
      "cell_type": "markdown",
      "metadata": {
        "id": "YYT-uG2iVyyC"
      },
      "source": [
        "replace first element with 11 in temp"
      ],
      "id": "YYT-uG2iVyyC"
    },
    {
      "cell_type": "code",
      "metadata": {
        "id": "TPHz9JNhVyyC",
        "colab": {
          "base_uri": "https://localhost:8080/"
        },
        "outputId": "e47eeed0-435b-447a-fddf-82b80f6a3050"
      },
      "source": [
        "#code here\n",
        "temp[0] = '11'\n",
        "print(temp)"
      ],
      "id": "TPHz9JNhVyyC",
      "execution_count": 8,
      "outputs": [
        {
          "output_type": "stream",
          "name": "stdout",
          "text": [
            "['11', 'Virat', 50.0]\n"
          ]
        }
      ]
    },
    {
      "cell_type": "markdown",
      "metadata": {
        "id": "uXSEPpsNVyyD"
      },
      "source": [
        "Set temp1 = tuple(temp)"
      ],
      "id": "uXSEPpsNVyyD"
    },
    {
      "cell_type": "code",
      "metadata": {
        "id": "VbCSNgbgVyyD"
      },
      "source": [
        "#code here\n",
        "temp1 = tuple(temp)\n"
      ],
      "id": "VbCSNgbgVyyD",
      "execution_count": 9,
      "outputs": []
    },
    {
      "cell_type": "markdown",
      "metadata": {
        "id": "eUHyhkksVyyD"
      },
      "source": [
        "Iterate through temp1 and print all the items in temp1. "
      ],
      "id": "eUHyhkksVyyD"
    },
    {
      "cell_type": "code",
      "metadata": {
        "id": "CKykzKZWVyyD",
        "outputId": "e33daee4-4943-44df-b53a-25ee378c913d",
        "colab": {
          "base_uri": "https://localhost:8080/"
        }
      },
      "source": [
        "#code here\n",
        "for i in temp1:\n",
        "  print(i)\n"
      ],
      "id": "CKykzKZWVyyD",
      "execution_count": 10,
      "outputs": [
        {
          "output_type": "stream",
          "name": "stdout",
          "text": [
            "11\n",
            "Virat\n",
            "50.0\n"
          ]
        }
      ]
    },
    {
      "cell_type": "markdown",
      "metadata": {
        "id": "90Iukov0VyyE"
      },
      "source": [
        "replace first element with 17 in temp1"
      ],
      "id": "90Iukov0VyyE"
    },
    {
      "cell_type": "code",
      "metadata": {
        "id": "q2lYcHvlVyyE",
        "outputId": "633050fd-b6a8-45b9-9023-a04219b8666f",
        "colab": {
          "base_uri": "https://localhost:8080/",
          "height": 200
        }
      },
      "source": [
        "#code here\n",
        "temp1[0] = '17'\n",
        "print(temp1)\n"
      ],
      "id": "q2lYcHvlVyyE",
      "execution_count": 11,
      "outputs": [
        {
          "output_type": "error",
          "ename": "TypeError",
          "evalue": "ignored",
          "traceback": [
            "\u001b[0;31m---------------------------------------------------------------------------\u001b[0m",
            "\u001b[0;31mTypeError\u001b[0m                                 Traceback (most recent call last)",
            "\u001b[0;32m<ipython-input-11-6273a759cf34>\u001b[0m in \u001b[0;36m<module>\u001b[0;34m()\u001b[0m\n\u001b[1;32m      1\u001b[0m \u001b[0;31m#code here\u001b[0m\u001b[0;34m\u001b[0m\u001b[0;34m\u001b[0m\u001b[0;34m\u001b[0m\u001b[0m\n\u001b[0;32m----> 2\u001b[0;31m \u001b[0mtemp1\u001b[0m\u001b[0;34m[\u001b[0m\u001b[0;36m0\u001b[0m\u001b[0;34m]\u001b[0m \u001b[0;34m=\u001b[0m \u001b[0;34m'17'\u001b[0m\u001b[0;34m\u001b[0m\u001b[0;34m\u001b[0m\u001b[0m\n\u001b[0m\u001b[1;32m      3\u001b[0m \u001b[0mprint\u001b[0m\u001b[0;34m(\u001b[0m\u001b[0mtemp1\u001b[0m\u001b[0;34m)\u001b[0m\u001b[0;34m\u001b[0m\u001b[0;34m\u001b[0m\u001b[0m\n",
            "\u001b[0;31mTypeError\u001b[0m: 'tuple' object does not support item assignment"
          ]
        }
      ]
    },
    {
      "cell_type": "markdown",
      "metadata": {
        "id": "pOCs0z6kVyyE"
      },
      "source": [
        "<b>Oops!! You got an error. Hey Don't worry! Its because Once a tuple is created, you cannot change its values unlike list.</b>"
      ],
      "id": "pOCs0z6kVyyE"
    },
    {
      "cell_type": "markdown",
      "metadata": {
        "id": "TVLr1hr-VyyE"
      },
      "source": [
        "#### 3.2 . Create city = (\"Bangalore\", 28.9949521, 72)"
      ],
      "id": "TVLr1hr-VyyE"
    },
    {
      "cell_type": "markdown",
      "metadata": {
        "id": "aPYxozkDVyyF"
      },
      "source": [
        "<p style='text-align: right;'> 6 points</p>\n"
      ],
      "id": "aPYxozkDVyyF"
    },
    {
      "cell_type": "code",
      "metadata": {
        "id": "TMSF0sL2VyyF"
      },
      "source": [
        "#code here\n",
        "\n"
      ],
      "id": "TMSF0sL2VyyF",
      "execution_count": null,
      "outputs": []
    },
    {
      "cell_type": "markdown",
      "metadata": {
        "id": "yAfZNGGpVyyF"
      },
      "source": [
        "Print first element of city"
      ],
      "id": "yAfZNGGpVyyF"
    },
    {
      "cell_type": "code",
      "metadata": {
        "id": "iE84MvLfVyyF",
        "outputId": "c1e5382f-7253-42ff-ab3a-231e072793ef"
      },
      "source": [
        "#code here\n",
        "\n"
      ],
      "id": "iE84MvLfVyyF",
      "execution_count": null,
      "outputs": [
        {
          "output_type": "stream",
          "text": [
            "Bangalore\n"
          ],
          "name": "stdout"
        }
      ]
    },
    {
      "cell_type": "markdown",
      "metadata": {
        "id": "gi3juaEcVyyF"
      },
      "source": [
        "Create city2 = (‘Chennai’, 30.01, 74)"
      ],
      "id": "gi3juaEcVyyF"
    },
    {
      "cell_type": "code",
      "metadata": {
        "id": "W7QsE6reVyyG"
      },
      "source": [
        "#code here\n",
        "\n"
      ],
      "id": "W7QsE6reVyyG",
      "execution_count": null,
      "outputs": []
    },
    {
      "cell_type": "markdown",
      "metadata": {
        "id": "2S4HKjrkVyyG"
      },
      "source": [
        "Create cities which consist of city and city2"
      ],
      "id": "2S4HKjrkVyyG"
    },
    {
      "cell_type": "code",
      "metadata": {
        "id": "qy2cLSqnVyyG"
      },
      "source": [
        "#code here\n",
        "\n"
      ],
      "id": "qy2cLSqnVyyG",
      "execution_count": null,
      "outputs": []
    },
    {
      "cell_type": "markdown",
      "metadata": {
        "id": "wqFLg1_mVyyH"
      },
      "source": [
        "Print cities"
      ],
      "id": "wqFLg1_mVyyH"
    },
    {
      "cell_type": "code",
      "metadata": {
        "id": "XVWOwuLDVyyH",
        "outputId": "b1427ccf-d855-4818-bbf3-6aa62afcbfa9"
      },
      "source": [
        "#code here\n",
        "\n"
      ],
      "id": "XVWOwuLDVyyH",
      "execution_count": null,
      "outputs": [
        {
          "output_type": "execute_result",
          "data": {
            "text/plain": [
              "(('Bangalore', 28.9949521, 72), ('Chennai', 30.01, 74))"
            ]
          },
          "metadata": {
            "tags": []
          },
          "execution_count": 115
        }
      ]
    },
    {
      "cell_type": "markdown",
      "metadata": {
        "id": "3sfhvF7PVyyH"
      },
      "source": [
        "Print type of first element in cities"
      ],
      "id": "3sfhvF7PVyyH"
    },
    {
      "cell_type": "code",
      "metadata": {
        "id": "AYSfa9BcVyyH",
        "outputId": "a8b58ad4-a204-46a1-da9c-3420bedf8f4f"
      },
      "source": [
        "#code here\n",
        "\n"
      ],
      "id": "AYSfa9BcVyyH",
      "execution_count": null,
      "outputs": [
        {
          "output_type": "stream",
          "text": [
            "<class 'tuple'>\n"
          ],
          "name": "stdout"
        }
      ]
    },
    {
      "cell_type": "markdown",
      "metadata": {
        "id": "CpmdmUGQVyyI"
      },
      "source": [
        "print the type of cities\n"
      ],
      "id": "CpmdmUGQVyyI"
    },
    {
      "cell_type": "code",
      "metadata": {
        "id": "HXZSynTWVyyI",
        "outputId": "6254a3bf-c553-4ad3-81fa-de163b6c1fd9"
      },
      "source": [
        "#code here\n",
        "\n"
      ],
      "id": "HXZSynTWVyyI",
      "execution_count": null,
      "outputs": [
        {
          "output_type": "stream",
          "text": [
            "<class 'tuple'>\n"
          ],
          "name": "stdout"
        }
      ]
    },
    {
      "cell_type": "markdown",
      "metadata": {
        "id": "Ql6GuXowVyyI"
      },
      "source": [
        "Hey that implies you made a nested tuples!!"
      ],
      "id": "Ql6GuXowVyyI"
    },
    {
      "cell_type": "markdown",
      "metadata": {
        "id": "4Xtsm0zRVyyI"
      },
      "source": [
        "## 4. DICT\n",
        "\n",
        "Reference:-https://www.youtube.com/watch?v=XCcpzWs-CI4"
      ],
      "id": "4Xtsm0zRVyyI"
    },
    {
      "cell_type": "markdown",
      "metadata": {
        "id": "_CWeAqiXVyyI"
      },
      "source": [
        "<p style='text-align: right;'> 11 points</p>\n"
      ],
      "id": "_CWeAqiXVyyI"
    },
    {
      "cell_type": "markdown",
      "metadata": {
        "id": "rMBdUOWmVyyI"
      },
      "source": [
        "#### 4.1 Create a dictionary d = {\"actor\":\"amir\",\"animal\":\"cat\",\"earth\":2,\"list\":[23,32,12]}"
      ],
      "id": "rMBdUOWmVyyI"
    },
    {
      "cell_type": "code",
      "metadata": {
        "id": "rfVTxi8WVyyI"
      },
      "source": [
        "#code here\n",
        "d = {\"actor\":\"amir\",\"animal\":\"cat\",\"earth\":2,\"list\":[23,32,12]}\n"
      ],
      "id": "rfVTxi8WVyyI",
      "execution_count": 1,
      "outputs": []
    },
    {
      "cell_type": "markdown",
      "metadata": {
        "id": "a4LcawM-VyyJ"
      },
      "source": [
        "Print the value of d[0]"
      ],
      "id": "a4LcawM-VyyJ"
    },
    {
      "cell_type": "code",
      "metadata": {
        "id": "HylT38vjVyyJ",
        "outputId": "b7ec18c9-31bc-4c62-8dec-ba54ce90d19f",
        "colab": {
          "base_uri": "https://localhost:8080/",
          "height": 183
        }
      },
      "source": [
        "#code here\n",
        "print (d(0))\n"
      ],
      "id": "HylT38vjVyyJ",
      "execution_count": 2,
      "outputs": [
        {
          "output_type": "error",
          "ename": "TypeError",
          "evalue": "ignored",
          "traceback": [
            "\u001b[0;31m---------------------------------------------------------------------------\u001b[0m",
            "\u001b[0;31mTypeError\u001b[0m                                 Traceback (most recent call last)",
            "\u001b[0;32m<ipython-input-2-0d5d533a05f4>\u001b[0m in \u001b[0;36m<module>\u001b[0;34m()\u001b[0m\n\u001b[1;32m      1\u001b[0m \u001b[0;31m#code here\u001b[0m\u001b[0;34m\u001b[0m\u001b[0;34m\u001b[0m\u001b[0;34m\u001b[0m\u001b[0m\n\u001b[0;32m----> 2\u001b[0;31m \u001b[0mprint\u001b[0m \u001b[0;34m(\u001b[0m\u001b[0md\u001b[0m\u001b[0;34m(\u001b[0m\u001b[0;36m0\u001b[0m\u001b[0;34m)\u001b[0m\u001b[0;34m)\u001b[0m\u001b[0;34m\u001b[0m\u001b[0;34m\u001b[0m\u001b[0m\n\u001b[0m",
            "\u001b[0;31mTypeError\u001b[0m: 'dict' object is not callable"
          ]
        }
      ]
    },
    {
      "cell_type": "markdown",
      "metadata": {
        "id": "d1ZM6F-lVyyJ"
      },
      "source": [
        "<b>Oops!! again an error. again a fun fact. Dictionary return the value for key if key is in the dictionary, else throws KeyError\n",
        "and we don't have key 0 here :( </b>"
      ],
      "id": "d1ZM6F-lVyyJ"
    },
    {
      "cell_type": "markdown",
      "metadata": {
        "id": "Ao9aaVTfVyyJ"
      },
      "source": [
        "Store the value of d[‘actor’] to a new variable actor."
      ],
      "id": "Ao9aaVTfVyyJ"
    },
    {
      "cell_type": "code",
      "metadata": {
        "id": "mIhYs8CcVyyJ"
      },
      "source": [
        "#code here\n",
        "\n",
        "actor=d['actor']"
      ],
      "id": "mIhYs8CcVyyJ",
      "execution_count": 6,
      "outputs": []
    },
    {
      "cell_type": "markdown",
      "metadata": {
        "id": "Abqy-R9UVyyJ"
      },
      "source": [
        "Print the type of actor"
      ],
      "id": "Abqy-R9UVyyJ"
    },
    {
      "cell_type": "code",
      "metadata": {
        "id": "h7QD7liKVyyN",
        "outputId": "c84d6821-3471-4481-a4fc-81debac17f7e",
        "colab": {
          "base_uri": "https://localhost:8080/"
        }
      },
      "source": [
        "#code here\n",
        "print (type(actor))\n"
      ],
      "id": "h7QD7liKVyyN",
      "execution_count": 7,
      "outputs": [
        {
          "output_type": "stream",
          "name": "stdout",
          "text": [
            "<class 'str'>\n"
          ]
        }
      ]
    },
    {
      "cell_type": "markdown",
      "metadata": {
        "id": "hGlTVoQDVyyN"
      },
      "source": [
        "Store the value of d[‘list’] in new variable l. "
      ],
      "id": "hGlTVoQDVyyN"
    },
    {
      "cell_type": "code",
      "metadata": {
        "id": "SEe3ZyIDVyyN"
      },
      "source": [
        "#code here\n",
        "\n",
        "I= d['list']"
      ],
      "id": "SEe3ZyIDVyyN",
      "execution_count": 10,
      "outputs": []
    },
    {
      "cell_type": "markdown",
      "metadata": {
        "id": "-hM-cresVyyO"
      },
      "source": [
        "Print the type of l. "
      ],
      "id": "-hM-cresVyyO"
    },
    {
      "cell_type": "code",
      "metadata": {
        "id": "kxM-x31eVyyO",
        "outputId": "bb0f9f11-e04e-4066-a15e-c748d0edfaaf",
        "colab": {
          "base_uri": "https://localhost:8080/"
        }
      },
      "source": [
        "#code here\n",
        "\n",
        "print (type(I))"
      ],
      "id": "kxM-x31eVyyO",
      "execution_count": 12,
      "outputs": [
        {
          "output_type": "stream",
          "name": "stdout",
          "text": [
            "<class 'list'>\n"
          ]
        }
      ]
    },
    {
      "cell_type": "markdown",
      "metadata": {
        "id": "1GEhjrWoVyyO"
      },
      "source": [
        "Create d1 = { ‘singer’ : ‘Kr$na’ , ‘album’: ‘Still here’, ‘genre’ : ‘hip-hop’}"
      ],
      "id": "1GEhjrWoVyyO"
    },
    {
      "cell_type": "code",
      "metadata": {
        "id": "Y2BqfgcXVyyO"
      },
      "source": [
        "#code here\n",
        "\n",
        "d1 = { 'singer' : 'Kr$na' , 'album': 'Still here', 'genre' : 'hip-hop'}"
      ],
      "id": "Y2BqfgcXVyyO",
      "execution_count": 14,
      "outputs": []
    },
    {
      "cell_type": "markdown",
      "metadata": {
        "id": "LEFSggGIVyyO"
      },
      "source": [
        "Merge d1 into d."
      ],
      "id": "LEFSggGIVyyO"
    },
    {
      "cell_type": "code",
      "metadata": {
        "id": "l9bxexKBVyyO",
        "colab": {
          "base_uri": "https://localhost:8080/"
        },
        "outputId": "7f7f0bf0-8e5e-4815-990b-9dde7d61dae0"
      },
      "source": [
        "#code here\n",
        "d3=d1.update(d)\n",
        "print(d3)"
      ],
      "id": "l9bxexKBVyyO",
      "execution_count": 16,
      "outputs": [
        {
          "output_type": "stream",
          "name": "stdout",
          "text": [
            "None\n"
          ]
        }
      ]
    },
    {
      "cell_type": "markdown",
      "metadata": {
        "id": "26yS0lNvVyyP"
      },
      "source": [
        "print d"
      ],
      "id": "26yS0lNvVyyP"
    },
    {
      "cell_type": "code",
      "metadata": {
        "id": "ym1yjbzaVyyP",
        "outputId": "54187726-c547-4bf2-9bbd-099d8c5ddced",
        "colab": {
          "base_uri": "https://localhost:8080/"
        }
      },
      "source": [
        "#code here\n",
        "print (d)\n"
      ],
      "id": "ym1yjbzaVyyP",
      "execution_count": 17,
      "outputs": [
        {
          "output_type": "stream",
          "name": "stdout",
          "text": [
            "{'actor': 'amir', 'animal': 'cat', 'earth': 2, 'list': [23, 32, 12]}\n"
          ]
        }
      ]
    },
    {
      "cell_type": "markdown",
      "metadata": {
        "id": "CkqYBSOCVyyP"
      },
      "source": [
        "Print all the keys in d"
      ],
      "id": "CkqYBSOCVyyP"
    },
    {
      "cell_type": "code",
      "metadata": {
        "id": "VX9PttdoVyyP",
        "outputId": "73211d5a-c6d4-4676-8021-115c711b0b74",
        "colab": {
          "base_uri": "https://localhost:8080/"
        }
      },
      "source": [
        "#code here\n",
        "print (d.keys())\n"
      ],
      "id": "VX9PttdoVyyP",
      "execution_count": 18,
      "outputs": [
        {
          "output_type": "stream",
          "name": "stdout",
          "text": [
            "dict_keys(['actor', 'animal', 'earth', 'list'])\n"
          ]
        }
      ]
    },
    {
      "cell_type": "markdown",
      "metadata": {
        "id": "B91BYflJVyyP"
      },
      "source": [
        "Print all the values in d"
      ],
      "id": "B91BYflJVyyP"
    },
    {
      "cell_type": "code",
      "metadata": {
        "id": "QsmJ1LmkVyyP",
        "outputId": "df88e7e0-cd76-4db5-dc24-7461b8835d05",
        "colab": {
          "base_uri": "https://localhost:8080/"
        }
      },
      "source": [
        "#code here\n",
        "print (d.values())\n"
      ],
      "id": "QsmJ1LmkVyyP",
      "execution_count": 19,
      "outputs": [
        {
          "output_type": "stream",
          "name": "stdout",
          "text": [
            "dict_values(['amir', 'cat', 2, [23, 32, 12]])\n"
          ]
        }
      ]
    },
    {
      "cell_type": "markdown",
      "metadata": {
        "id": "tX8fuy3pVyyQ"
      },
      "source": [
        "Iterate over d, and print each key, value pair as given in output"
      ],
      "id": "tX8fuy3pVyyQ"
    },
    {
      "cell_type": "code",
      "metadata": {
        "id": "OPWgOwA6VyyQ",
        "outputId": "3f2f4355-8ceb-4397-a7dd-c445ff1e0e2e",
        "colab": {
          "base_uri": "https://localhost:8080/"
        }
      },
      "source": [
        "#code here\n",
        "for i in d:\n",
        "  print(i, '---->', d[i])\n"
      ],
      "id": "OPWgOwA6VyyQ",
      "execution_count": 24,
      "outputs": [
        {
          "output_type": "stream",
          "name": "stdout",
          "text": [
            "actor ----> amir\n",
            "animal ----> cat\n",
            "earth ----> 2\n",
            "list ----> [23, 32, 12]\n"
          ]
        }
      ]
    },
    {
      "cell_type": "markdown",
      "metadata": {
        "id": "EktIkHiwVyyQ"
      },
      "source": [
        "count the number of occurences of charachters in string named \"sent\" using dictionary and print the same.\n"
      ],
      "id": "EktIkHiwVyyQ"
    },
    {
      "cell_type": "code",
      "metadata": {
        "id": "MZtHFJlJVyyQ",
        "outputId": "cd42bea4-742f-4163-9f14-fa7ed0c6585b",
        "colab": {
          "base_uri": "https://localhost:8080/"
        }
      },
      "source": [
        "from collections import Counter\n",
        "#code here\n",
        "res = Counter(sent)\n",
        "  \n",
        "# printing result \n",
        "print (\"Count of all characters in sent is :\\n \"+  str(res))\n",
        "\n",
        "\n"
      ],
      "id": "MZtHFJlJVyyQ",
      "execution_count": 32,
      "outputs": [
        {
          "output_type": "stream",
          "name": "stdout",
          "text": [
            "Count of all characters in sent is :\n",
            " Counter({'o': 6, ' ': 5, 'r': 4, 'd': 4, 'n': 3, 'u': 3, 's': 3, 'C': 2, 'a': 2, 'e': 2, 'v': 1, 'i': 1, 'L': 1, 'c': 1, 'k': 1, 'w': 1, 'A': 1, 'T': 1, 'h': 1, 'W': 1, 'l': 1, '.': 1})\n"
          ]
        }
      ]
    },
    {
      "cell_type": "markdown",
      "metadata": {
        "id": "Y_Xm82KVVyyQ"
      },
      "source": [
        "# --------------------------------------------------------------------"
      ],
      "id": "Y_Xm82KVVyyQ"
    },
    {
      "cell_type": "markdown",
      "metadata": {
        "id": "6w3zJiJYVyyR"
      },
      "source": [
        "# Hurray!! Second milestone completed. The next challenge is waiting for you :)\n",
        "\n",
        "# --------------------------------------------------------------------\n",
        "\n",
        "-----------------\n",
        "# FeedBack\n",
        "We hope you’ve enjoyed this course so far. We’re committed to help you use \"AI for All\" course to its full potential, so that you have a great learning experience. And that’s why we need your help in form of a feedback here.\n",
        "\n",
        "Please fill this feedback form  https://zfrmz.in/MtRG5oWXBdesm6rmSM7N"
      ],
      "id": "6w3zJiJYVyyR"
    }
  ]
}