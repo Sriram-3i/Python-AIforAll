{
  "nbformat": 4,
  "nbformat_minor": 0,
  "metadata": {
    "kernelspec": {
      "display_name": "Python 3",
      "language": "python",
      "name": "python3"
    },
    "language_info": {
      "codemirror_mode": {
        "name": "ipython",
        "version": 3
      },
      "file_extension": ".py",
      "mimetype": "text/x-python",
      "name": "python",
      "nbconvert_exporter": "python",
      "pygments_lexer": "ipython3",
      "version": "3.8.5"
    },
    "colab": {
      "name": "Python Basics.ipynb",
      "provenance": [],
      "collapsed_sections": [
        "ckkim1RTzQCK",
        "f0dnDeytzQCQ",
        "sxTA3mCazQCU",
        "_-FqGsrLzQCW",
        "ItyDj1l0zQCb",
        "G3CNJi-WzQCe",
        "c6usrDFvzQCj",
        "PKELl4D5zQCl"
      ]
    }
  },
  "cells": [
    {
      "cell_type": "markdown",
      "metadata": {
        "id": "O5sBk_7KzQBx"
      },
      "source": [
        "# <center><u> Python basics</u></center>\n",
        "![image.png](attachment:image.png)"
      ]
    },
    {
      "cell_type": "markdown",
      "metadata": {
        "id": "DO5JXVkDzQB5"
      },
      "source": [
        "Python is emerging as the popular language used more in data science applications.\n",
        "\n",
        "Take the case of the tech giant Google that has created the deep learning framework called tensorflow – Python is the primary language used for creating this framework. Its footprint has continued to increase in the environment promoted by Netflix. Production engineers at Facebook and Khan Academy have for long been using it as a prominent language in their environment.\n",
        "\n",
        "Python became the most popular language in the data science world.\n",
        "So what are you waiting for? Lets start learning python basic as your first assignment.\n",
        "\n",
        "## Variable declaration"
      ]
    },
    {
      "cell_type": "markdown",
      "metadata": {
        "id": "gENad338zQB7"
      },
      "source": [
        "Covers the topic of variable declaration and type of variables\n",
        "\n",
        "reference:- https://youtu.be/RVYY7zMiPbg\n",
        "\n",
        "<p style='text-align: right;'> 1+1+1+1+1 = 5 points</p>\n"
      ]
    },
    {
      "cell_type": "code",
      "metadata": {
        "id": "CfZqKjagzQB8"
      },
      "source": [
        "# declare two variables, a = 5, b = 'city'\n",
        "a = 5\n",
        "b = 'city'"
      ],
      "execution_count": null,
      "outputs": []
    },
    {
      "cell_type": "code",
      "metadata": {
        "colab": {
          "base_uri": "https://localhost:8080/"
        },
        "id": "fuQfUmEDzQB9",
        "outputId": "5015caf6-43dc-4a89-e8af-4bd3db6c8f84"
      },
      "source": [
        "# print type of a\n",
        "type(a)"
      ],
      "execution_count": null,
      "outputs": [
        {
          "output_type": "execute_result",
          "data": {
            "text/plain": [
              "int"
            ]
          },
          "metadata": {
            "tags": []
          },
          "execution_count": 3
        }
      ]
    },
    {
      "cell_type": "code",
      "metadata": {
        "colab": {
          "base_uri": "https://localhost:8080/"
        },
        "id": "comU0XQYzQB_",
        "outputId": "1e2e7b04-3454-41ff-b67d-e6d9ff527f6e"
      },
      "source": [
        "# print type of b\n",
        "type(b)"
      ],
      "execution_count": null,
      "outputs": [
        {
          "output_type": "execute_result",
          "data": {
            "text/plain": [
              "str"
            ]
          },
          "metadata": {
            "tags": []
          },
          "execution_count": 4
        }
      ]
    },
    {
      "cell_type": "code",
      "metadata": {
        "id": "9_ZRngOdzQCA"
      },
      "source": [
        "# swap the values of a and b\n",
        "a= 'city'\n",
        "b=5"
      ],
      "execution_count": null,
      "outputs": []
    },
    {
      "cell_type": "code",
      "metadata": {
        "colab": {
          "base_uri": "https://localhost:8080/"
        },
        "id": "n2CaVPWCzQCA",
        "outputId": "c2e6396d-ca97-4fbf-c936-26a0c1977c88"
      },
      "source": [
        "# run this to confirm \n",
        "print (a,b)"
      ],
      "execution_count": null,
      "outputs": [
        {
          "output_type": "stream",
          "text": [
            "city 5\n"
          ],
          "name": "stdout"
        }
      ]
    },
    {
      "cell_type": "markdown",
      "metadata": {
        "id": "A0XJpRw4zQCB"
      },
      "source": [
        "Cool! so variable declaration and getting it's type was easy."
      ]
    },
    {
      "cell_type": "markdown",
      "metadata": {
        "id": "q9Tg1gpjzQCC"
      },
      "source": [
        "## Arithmetic Operations"
      ]
    },
    {
      "cell_type": "markdown",
      "metadata": {
        "id": "vvu0P8SIzQCC"
      },
      "source": [
        "Hey novice! this will be easy for you until you know basic arithmetic symbols like +, -, /, * etc.\n",
        "\n",
        "reference:- https://youtu.be/0-hzxfkpHy8\n",
        "\n",
        "<p style='text-align: right;'> 1 + 7 = 8 points </p>\n"
      ]
    },
    {
      "cell_type": "code",
      "metadata": {
        "colab": {
          "base_uri": "https://localhost:8080/"
        },
        "id": "mVcZ-YS6zQCD",
        "outputId": "1b5f920b-5743-4a7b-85c3-0ca6fc540882"
      },
      "source": [
        "# declare two variables, a = 24, b = 3\n",
        "\n",
        "a = 24\n",
        "b = 3\n",
        "print('a = {}, b = {}'.format(b,a))"
      ],
      "execution_count": null,
      "outputs": [
        {
          "output_type": "stream",
          "text": [
            "a = 3, b = 24\n"
          ],
          "name": "stdout"
        }
      ]
    },
    {
      "cell_type": "code",
      "metadata": {
        "colab": {
          "base_uri": "https://localhost:8080/"
        },
        "id": "nmZPuIqxzQCD",
        "outputId": "0d221869-906b-4fad-a867-c7198b69f928"
      },
      "source": [
        "# calculate and print all the possible numerical operations on a and b (There are total 7 operations)\n",
        "c= a+b \n",
        "d= a-b\n",
        "e= a*b\n",
        "f= a/b\n",
        "g= a%b\n",
        "h = a//b\n",
        "i =a**b\n",
        "\n",
        "print('a + b = {}'.format(c))\n",
        "print('a - b = {}'.format(d))\n",
        "print('a * b = {}'.format(e))\n",
        "print('a / b = {}'.format(f))\n",
        "print('a % b = {}'.format(g))\n",
        "print('a // b = {}'.format(h))\n",
        "print('a ** b = {}'.format(i))"
      ],
      "execution_count": null,
      "outputs": [
        {
          "output_type": "stream",
          "text": [
            "a + b = 27\n",
            "a - b = 21\n",
            "a * b = 72\n",
            "a / b = 8.0\n",
            "a % b = 0\n",
            "a // b = 8\n",
            "a ** b = 13824\n"
          ],
          "name": "stdout"
        }
      ]
    },
    {
      "cell_type": "markdown",
      "metadata": {
        "id": "80zVTeNNzQCE"
      },
      "source": [
        "## Math Functions"
      ]
    },
    {
      "cell_type": "markdown",
      "metadata": {
        "id": "DwNrWZk9zQCE"
      },
      "source": [
        "Lets do some simple mathematical operations by using math module. Math module contains various mathematical functions. So here we go!\n",
        "\n",
        "Reference:- https://youtu.be/gktjNyV0xks\n",
        "\n",
        "Reference document: https://docs.python.org/3/library/math.html\n",
        "<p style='text-align: right;'> 10 points </p>\n",
        "\n",
        "\n"
      ]
    },
    {
      "cell_type": "code",
      "metadata": {
        "id": "4rTFPj7rzQCF"
      },
      "source": [
        "#import math"
      ],
      "execution_count": null,
      "outputs": []
    },
    {
      "cell_type": "code",
      "metadata": {
        "id": "3ASRe7Q8zQCF"
      },
      "source": [
        "# declare a variable x = 2 and y=5.32167\n",
        "X=2\n",
        "Y=5.32167"
      ],
      "execution_count": null,
      "outputs": []
    },
    {
      "cell_type": "code",
      "metadata": {
        "id": "5L_FYRXszQCG",
        "colab": {
          "base_uri": "https://localhost:8080/"
        },
        "outputId": "488571d7-31c2-44a8-e3a1-932b2c8fd108"
      },
      "source": [
        "# Print the maximum value between x and y\n",
        "max(X,Y)"
      ],
      "execution_count": null,
      "outputs": [
        {
          "output_type": "execute_result",
          "data": {
            "text/plain": [
              "5.32167"
            ]
          },
          "metadata": {
            "tags": []
          },
          "execution_count": 4
        }
      ]
    },
    {
      "cell_type": "code",
      "metadata": {
        "id": "YJOTowiVzQCG",
        "colab": {
          "base_uri": "https://localhost:8080/"
        },
        "outputId": "f8ffe80a-6cfc-4ae7-efa5-4bb6d8ec97b0"
      },
      "source": [
        "# Print the minimum value between x and y\n",
        "min(X,Y)"
      ],
      "execution_count": null,
      "outputs": [
        {
          "output_type": "execute_result",
          "data": {
            "text/plain": [
              "2"
            ]
          },
          "metadata": {
            "tags": []
          },
          "execution_count": 5
        }
      ]
    },
    {
      "cell_type": "code",
      "metadata": {
        "id": "tZ00n2EozQCH",
        "colab": {
          "base_uri": "https://localhost:8080/"
        },
        "outputId": "0c7ec8b2-2e55-42bf-a2d6-298043c6cd92"
      },
      "source": [
        "# Print square and cube of x and store in a and b variable\n",
        "a=X**2\n",
        "b=X**3\n",
        "\n",
        "print (a)\n",
        "print (b)"
      ],
      "execution_count": null,
      "outputs": [
        {
          "output_type": "stream",
          "text": [
            "4\n",
            "8\n"
          ],
          "name": "stdout"
        }
      ]
    },
    {
      "cell_type": "code",
      "metadata": {
        "id": "MSidMbMUzQCH",
        "colab": {
          "base_uri": "https://localhost:8080/"
        },
        "outputId": "ccadf2dc-c06d-4f7e-e3ec-d7cf357c3d91"
      },
      "source": [
        "#print log of x and store it in variable c\n",
        "c = math.log(X)\n",
        "print (c)"
      ],
      "execution_count": null,
      "outputs": [
        {
          "output_type": "stream",
          "text": [
            "0.6931471805599453\n"
          ],
          "name": "stdout"
        }
      ]
    },
    {
      "cell_type": "code",
      "metadata": {
        "id": "EmUX21urzQCI",
        "colab": {
          "base_uri": "https://localhost:8080/"
        },
        "outputId": "c684f89f-8486-469d-a2d6-6f945ffaaeaa"
      },
      "source": [
        "#print minimum value between x,y,a, b and c\n",
        "min(X,Y,a,b,c)"
      ],
      "execution_count": null,
      "outputs": [
        {
          "output_type": "execute_result",
          "data": {
            "text/plain": [
              "0.6931471805599453"
            ]
          },
          "metadata": {
            "tags": []
          },
          "execution_count": 9
        }
      ]
    },
    {
      "cell_type": "code",
      "metadata": {
        "id": "Eu5QAW41zQCI",
        "colab": {
          "base_uri": "https://localhost:8080/"
        },
        "outputId": "e07ab88e-5bd6-4265-cc35-b3c117635217"
      },
      "source": [
        "#print maximum value between x,y,a, b and c\n",
        "max(X,Y,a,b,c)"
      ],
      "execution_count": null,
      "outputs": [
        {
          "output_type": "execute_result",
          "data": {
            "text/plain": [
              "8"
            ]
          },
          "metadata": {
            "tags": []
          },
          "execution_count": 10
        }
      ]
    },
    {
      "cell_type": "code",
      "metadata": {
        "id": "5JWkvkFHzQCJ",
        "colab": {
          "base_uri": "https://localhost:8080/"
        },
        "outputId": "32fb04bd-c866-4a89-a7c9-3baa58f202ae"
      },
      "source": [
        "#print the largest integer that is smaller than or equal to c. ie.round down\n",
        "Z= math.floor(min(c,max (X,Y,a,b)))\n",
        "\n",
        "print(Z)"
      ],
      "execution_count": null,
      "outputs": [
        {
          "output_type": "stream",
          "text": [
            "0\n"
          ],
          "name": "stdout"
        }
      ]
    },
    {
      "cell_type": "code",
      "metadata": {
        "id": "mNjxLFhLzQCJ",
        "colab": {
          "base_uri": "https://localhost:8080/"
        },
        "outputId": "b8820445-6869-4814-ddff-3d8118625fde"
      },
      "source": [
        "#print the smallest integer that is greater than or equal to c ie. round up\n",
        "Z= math.ceil((c<=min (X,Y,a,b)))\n",
        "\n",
        "print(Z)"
      ],
      "execution_count": null,
      "outputs": [
        {
          "output_type": "stream",
          "text": [
            "1\n"
          ],
          "name": "stdout"
        }
      ]
    },
    {
      "cell_type": "markdown",
      "metadata": {
        "id": "ckkim1RTzQCK"
      },
      "source": [
        "## Logical operations\n",
        "\n",
        "You must be aware of some logical operations you did in college, like 'and', 'or', 'not' etc. These operations becomes even more easy to implement when you have friend like python.\n",
        "\n",
        "Reference:- https://youtu.be/9w992l9TFIs\n",
        "\n",
        "<p style='text-align: right;'> 1 + 1 + 1 + 6 = 9 points </p>\n"
      ]
    },
    {
      "cell_type": "code",
      "metadata": {
        "id": "TqY5qyIAzQCM",
        "colab": {
          "base_uri": "https://localhost:8080/"
        },
        "outputId": "c2c8b9a1-ad9a-4bfc-a248-22f506c2a2be"
      },
      "source": [
        "# declare two variables, a = True, b = False\n",
        "a = True\n",
        "b = False\n",
        "print(a)\n",
        "print(b)"
      ],
      "execution_count": null,
      "outputs": [
        {
          "output_type": "stream",
          "text": [
            "True\n",
            "False\n"
          ],
          "name": "stdout"
        }
      ]
    },
    {
      "cell_type": "code",
      "metadata": {
        "id": "G0ULBvnSzQCM",
        "colab": {
          "base_uri": "https://localhost:8080/"
        },
        "outputId": "0e0c63db-edfd-414d-c63f-c0c6985d6321"
      },
      "source": [
        "# print type of a and type of b\n",
        "print (type(a))\n",
        "print (type(b))"
      ],
      "execution_count": null,
      "outputs": [
        {
          "output_type": "stream",
          "text": [
            "<class 'bool'>\n",
            "<class 'bool'>\n"
          ],
          "name": "stdout"
        }
      ]
    },
    {
      "cell_type": "markdown",
      "metadata": {
        "id": "7HB7iLsBzQCN"
      },
      "source": [
        "A fun fact for you !\n",
        "The Python Boolean type is one of Python's built-in data types. It's used to represent the truth value of an expression"
      ]
    },
    {
      "cell_type": "code",
      "metadata": {
        "id": "5MrjJRlEzQCO",
        "colab": {
          "base_uri": "https://localhost:8080/"
        },
        "outputId": "867d1580-4b38-4d20-d59f-654fa9c6a7fa"
      },
      "source": [
        "# print int(a) and int(b)\n",
        "s1=\"int of a is \"\n",
        "s2=\"int of b is \" \n",
        "\n",
        "print(\"%s%s\" % (s1, int(a)))\n",
        "print(\"%s%s\" % (s2, int(b)))"
      ],
      "execution_count": null,
      "outputs": [
        {
          "output_type": "stream",
          "text": [
            "int of a is 1\n",
            "int of b is 0\n"
          ],
          "name": "stdout"
        }
      ]
    },
    {
      "cell_type": "markdown",
      "metadata": {
        "id": "R86qGvFezQCO"
      },
      "source": [
        "We are sure you must have seen that, values for 'True' is 1 and for 'False' is 0."
      ]
    },
    {
      "cell_type": "code",
      "metadata": {
        "id": "ZkF672dEzQCP",
        "colab": {
          "base_uri": "https://localhost:8080/"
        },
        "outputId": "c20ffc5b-7b3a-435d-a563-94052bc70e5f"
      },
      "source": [
        "# Find and print the values of not a, not b, a and b, a or b, a and not b\n",
        "s1='not(a) ='\n",
        "s2='not(b) ='\n",
        "s3='a and b ='\n",
        "s4='a or b ='\n",
        "s5='a and not b ='\n",
        "print(\"%s%s\" % (s1, not(a)))\n",
        "print(\"%s%s\" % (s2, not(b)))\n",
        "print(\"%s%s\" % (s3, (a and b)))\n",
        "print(\"%s%s\" % (s4, (a or b)))\n",
        "print(\"%s%s\" % (s5, (a and not(b))))"
      ],
      "execution_count": null,
      "outputs": [
        {
          "output_type": "stream",
          "text": [
            "not(a) =False\n",
            "not(b) =True\n",
            "a and b =False\n",
            "a or b =True\n",
            "a and not b =True\n"
          ],
          "name": "stdout"
        }
      ]
    },
    {
      "cell_type": "markdown",
      "metadata": {
        "id": "lwXh9PCxzQCQ"
      },
      "source": [
        "We hope you tried to undertand the above output! "
      ]
    },
    {
      "cell_type": "markdown",
      "metadata": {
        "id": "f0dnDeytzQCQ"
      },
      "source": [
        "## List Comprehensions\n",
        "\n",
        "Hey buddy! Python has really amazing thing called list comprehension. List comprehension offers a shorter syntax when you want to create a new list based on the values of an existing list. Cool right? Let's dive into this more by doing it. \n",
        "\n",
        "Reference:- https://youtu.be/17gTGqHG5xQ\n",
        "\n",
        "<p style='text-align: right;'> 10 + 10 + 10= 30 points </p>\n",
        "\n"
      ]
    },
    {
      "cell_type": "code",
      "metadata": {
        "id": "Jfl9PmjYzQCR",
        "colab": {
          "base_uri": "https://localhost:8080/"
        },
        "outputId": "3e0d179e-6c44-4ab2-80ad-d0d4ca9a7bb9"
      },
      "source": [
        "# Using list comprehension, create a list containing numbers from 1 to 20. \n",
        "# Hint: You can use range function of python to do this.\n",
        "\n",
        "[x for x in range(1,21)]\n"
      ],
      "execution_count": null,
      "outputs": [
        {
          "output_type": "execute_result",
          "data": {
            "text/plain": [
              "[1, 2, 3, 4, 5, 6, 7, 8, 9, 10, 11, 12, 13, 14, 15, 16, 17, 18, 19, 20]"
            ]
          },
          "metadata": {
            "tags": []
          },
          "execution_count": 29
        }
      ]
    },
    {
      "cell_type": "code",
      "metadata": {
        "id": "g4Ym8lfHzQCS",
        "colab": {
          "base_uri": "https://localhost:8080/"
        },
        "outputId": "991a03de-6423-449d-be3e-2b12fca8c7ed"
      },
      "source": [
        "# Using list comprehension, create a list containing numbers from 1 to 20 that are even\n",
        "\n",
        "[x for x in range(1,21) if x%2==0]"
      ],
      "execution_count": null,
      "outputs": [
        {
          "output_type": "execute_result",
          "data": {
            "text/plain": [
              "[2, 4, 6, 8, 10, 12, 14, 16, 18, 20]"
            ]
          },
          "metadata": {
            "tags": []
          },
          "execution_count": 30
        }
      ]
    },
    {
      "cell_type": "markdown",
      "metadata": {
        "id": "Rc3Sez9wzQCS"
      },
      "source": [
        "Create a list of all the fruits you like. Using list comprehension, create another list which contains the total number of charachters for each corresponding fruits.\n",
        "- Eg. fruits = [‘apple’,’kiwi’,’orange’], then output would be - [5,4,6]\n"
      ]
    },
    {
      "cell_type": "code",
      "metadata": {
        "id": "ETpNx4WpzQCT",
        "colab": {
          "base_uri": "https://localhost:8080/"
        },
        "outputId": "cb47a80e-4de5-42fb-8aeb-809261067a8c"
      },
      "source": [
        "fruits = ['mango','Pear','peach']\n",
        "len_fruits =  [len(i) for i in fruits]\n",
        "\n",
        "print(fruits)\n",
        "print(len_fruits)"
      ],
      "execution_count": null,
      "outputs": [
        {
          "output_type": "stream",
          "text": [
            "['mango', 'Pear', 'peach']\n",
            "[5, 4, 5]\n"
          ],
          "name": "stdout"
        }
      ]
    },
    {
      "cell_type": "markdown",
      "metadata": {
        "id": "5KXPLJXPzQCU"
      },
      "source": [
        "The above output is shown if fruits = ['apple','kiwi,'orange'], it can vary for different values of fruits\n",
        "\n",
        "Amazing right?\n"
      ]
    },
    {
      "cell_type": "markdown",
      "metadata": {
        "id": "sxTA3mCazQCU"
      },
      "source": [
        "## String value and operators\n",
        "\n",
        "<p style='text-align: right;'> 1 + 1 + 1 + 1 + 1 = 5 points </p>\n"
      ]
    },
    {
      "cell_type": "markdown",
      "metadata": {
        "id": "_-FqGsrLzQCW"
      },
      "source": [
        "### Characters in strings\n",
        "\n",
        "\n",
        "Reference:- https://www.programiz.com/python-programming/string\n",
        "\n",
        "Reference:-  https://youtu.be/LnQDWIMaJlA\n"
      ]
    },
    {
      "cell_type": "code",
      "metadata": {
        "id": "RZNKkYMMzQCW",
        "colab": {
          "base_uri": "https://localhost:8080/"
        },
        "outputId": "ce35372a-eb7b-4f94-86e7-cd37b8cf1bac"
      },
      "source": [
        "# declare the variables x = cat and y = dog and print it\n",
        "x =  'cat'\n",
        "y = 'dog'\n",
        "\n",
        "print(x)\n",
        "print(y)"
      ],
      "execution_count": null,
      "outputs": [
        {
          "output_type": "stream",
          "text": [
            "cat\n",
            "dog\n"
          ],
          "name": "stdout"
        }
      ]
    },
    {
      "cell_type": "code",
      "metadata": {
        "id": "k2v4Nx8GzQCX",
        "colab": {
          "base_uri": "https://localhost:8080/"
        },
        "outputId": "d8d7672e-84ec-43b7-e6ad-44df60b52e63"
      },
      "source": [
        "#Print first character of both x and y. \n",
        "\n",
        "print('First ch of x = ', x[0])\n",
        "print('First ch of y = ', y[0])"
      ],
      "execution_count": null,
      "outputs": [
        {
          "output_type": "stream",
          "text": [
            "First ch of x =  c\n",
            "First ch of y =  d\n"
          ],
          "name": "stdout"
        }
      ]
    },
    {
      "cell_type": "code",
      "metadata": {
        "id": "nuLXctMKzQCY",
        "colab": {
          "base_uri": "https://localhost:8080/"
        },
        "outputId": "ede9e505-1e17-4df1-c340-e82e82f8b40e"
      },
      "source": [
        "#Print last character of both x and y.\n",
        "print('Last ch of x = ', x[-1])\n",
        "print('Last ch of y = ', y[-1])"
      ],
      "execution_count": null,
      "outputs": [
        {
          "output_type": "stream",
          "text": [
            "Last ch of x =  t\n",
            "Last ch of y =  g\n"
          ],
          "name": "stdout"
        }
      ]
    },
    {
      "cell_type": "code",
      "metadata": {
        "id": "5-RA-MKJzQCZ",
        "colab": {
          "base_uri": "https://localhost:8080/"
        },
        "outputId": "d6cb56de-3f2c-426d-f47b-1e94e3e1c54f"
      },
      "source": [
        "#Print len of both x and y\n",
        "print('Length of x is', len(x))\n",
        "print('Length of y is', len(y))"
      ],
      "execution_count": null,
      "outputs": [
        {
          "output_type": "stream",
          "text": [
            "Length of x is 3\n",
            "Length of y is 3\n"
          ],
          "name": "stdout"
        }
      ]
    },
    {
      "cell_type": "code",
      "metadata": {
        "id": "DpzUcF9GzQCZ",
        "colab": {
          "base_uri": "https://localhost:8080/"
        },
        "outputId": "4db50a39-69d2-4b29-e2cc-faf6b0a9a8b3"
      },
      "source": [
        "#concatenate both x and y and store it in variable z and print z\n",
        "z = x + y\n",
        "print (z)"
      ],
      "execution_count": null,
      "outputs": [
        {
          "output_type": "stream",
          "text": [
            "catdog\n"
          ],
          "name": "stdout"
        }
      ]
    },
    {
      "cell_type": "code",
      "metadata": {
        "id": "kl0726tPzQCa",
        "colab": {
          "base_uri": "https://localhost:8080/"
        },
        "outputId": "67c68854-7ae2-44ce-98a7-2817b4f4eca5"
      },
      "source": [
        "#check if x is part of z \n",
        "\n",
        "if x in z:\n",
        "  \n",
        "# print result\n",
        "  print (\"True\")"
      ],
      "execution_count": null,
      "outputs": [
        {
          "output_type": "stream",
          "text": [
            "True\n"
          ],
          "name": "stdout"
        }
      ]
    },
    {
      "cell_type": "markdown",
      "metadata": {
        "id": "ItyDj1l0zQCb"
      },
      "source": [
        "### String slicing\n",
        "\n",
        "\n",
        "\n",
        "Hey coder, do you know? Python slicing is about obtaining a sub-string from the given string by slicing it respectively from start to end\n",
        "\n",
        "So be ready to implement it today!\n",
        "<p style='text-align: right;'> 2 points </p>"
      ]
    },
    {
      "cell_type": "code",
      "metadata": {
        "id": "D1ADcRxozQCc",
        "colab": {
          "base_uri": "https://localhost:8080/"
        },
        "outputId": "aede53ea-8036-426b-cbb6-0bac7dfaa081"
      },
      "source": [
        "#Create variable a = “pineapple”\n",
        "a = 'pineapple'\n",
        "print(a)"
      ],
      "execution_count": null,
      "outputs": [
        {
          "output_type": "stream",
          "text": [
            "pineapple\n"
          ],
          "name": "stdout"
        }
      ]
    },
    {
      "cell_type": "code",
      "metadata": {
        "id": "hRXN-wzCzQCc",
        "colab": {
          "base_uri": "https://localhost:8080/"
        },
        "outputId": "6e785cd1-a8e1-4235-b7fd-adc9a114c81f"
      },
      "source": [
        "# Using index slicing, print the words ‘pine’ and “apple”.\n",
        "# HINT - a[:]\n",
        "print( a[0:4])\n",
        "print( a[4:len(a) +1])"
      ],
      "execution_count": null,
      "outputs": [
        {
          "output_type": "stream",
          "text": [
            "pine\n",
            "apple\n"
          ],
          "name": "stdout"
        }
      ]
    },
    {
      "cell_type": "code",
      "metadata": {
        "id": "Hr5krzZWzQCd",
        "colab": {
          "base_uri": "https://localhost:8080/"
        },
        "outputId": "4ea9facb-4e0b-4794-b286-b4e6889e2502"
      },
      "source": [
        "#Convert a into upper case\n",
        "print (a.upper())"
      ],
      "execution_count": null,
      "outputs": [
        {
          "output_type": "stream",
          "text": [
            "PINEAPPLE\n"
          ],
          "name": "stdout"
        }
      ]
    },
    {
      "cell_type": "markdown",
      "metadata": {
        "id": "G3CNJi-WzQCe"
      },
      "source": [
        "## Dealing with Sentences\n",
        "\n",
        "<p style='text-align: right;'> 1+1+1+1+1+1 = 6 points </p>\n"
      ]
    },
    {
      "cell_type": "code",
      "metadata": {
        "id": "QCnv0SnlzQCe",
        "colab": {
          "base_uri": "https://localhost:8080/"
        },
        "outputId": "24d73def-89cd-4f06-f693-1d39fcdf78e4"
      },
      "source": [
        "# Declare a sentence of ‘I am flying to London’ and print it\n",
        "Sentence = 'I am flying to London'\n",
        "print (Sentence)"
      ],
      "execution_count": null,
      "outputs": [
        {
          "output_type": "stream",
          "text": [
            "I am flying to London\n"
          ],
          "name": "stdout"
        }
      ]
    },
    {
      "cell_type": "code",
      "metadata": {
        "id": "qDo-NK9DzQCf",
        "colab": {
          "base_uri": "https://localhost:8080/"
        },
        "outputId": "e4428df7-2a1a-41af-b865-64c5b7168d72"
      },
      "source": [
        "#Print length of the sentence\n",
        "print (len(Sentence))"
      ],
      "execution_count": null,
      "outputs": [
        {
          "output_type": "stream",
          "text": [
            "21\n"
          ],
          "name": "stdout"
        }
      ]
    },
    {
      "cell_type": "code",
      "metadata": {
        "id": "4aq-HRA4zQCg",
        "colab": {
          "base_uri": "https://localhost:8080/"
        },
        "outputId": "c5ed0e60-e4b7-43b4-eb4f-bfcb07198613"
      },
      "source": [
        "#Using list indexing, to print the word London\n",
        "Word= Sentence.split()\n",
        "print (Word[4])"
      ],
      "execution_count": null,
      "outputs": [
        {
          "output_type": "stream",
          "text": [
            "London\n"
          ],
          "name": "stdout"
        }
      ]
    },
    {
      "cell_type": "code",
      "metadata": {
        "id": "DuZcd3WSzQCg",
        "colab": {
          "base_uri": "https://localhost:8080/"
        },
        "outputId": "7e6a1585-7b8b-4638-c745-3adddbdbfc37"
      },
      "source": [
        "# Use .split to get list of individual words in the sentence\n",
        "Word= Sentence.split()\n",
        "print (Word)"
      ],
      "execution_count": null,
      "outputs": [
        {
          "output_type": "stream",
          "text": [
            "['I', 'am', 'flying', 'to', 'London']\n"
          ],
          "name": "stdout"
        }
      ]
    },
    {
      "cell_type": "code",
      "metadata": {
        "id": "tjvux8FIzQCh",
        "colab": {
          "base_uri": "https://localhost:8080/"
        },
        "outputId": "d6481846-8b12-4c2f-e927-d3003e8e667a"
      },
      "source": [
        "# Convert sentence in lower case \n",
        "print (Sentence.lower())"
      ],
      "execution_count": null,
      "outputs": [
        {
          "output_type": "stream",
          "text": [
            "i am flying to london\n"
          ],
          "name": "stdout"
        }
      ]
    },
    {
      "cell_type": "code",
      "metadata": {
        "id": "jhGYpHaQzQCi",
        "colab": {
          "base_uri": "https://localhost:8080/"
        },
        "outputId": "dfb68991-af8c-4bbb-adf9-8dc710781d33"
      },
      "source": [
        "# Convert sentence in upper case .\n",
        "print (Sentence.upper())"
      ],
      "execution_count": null,
      "outputs": [
        {
          "output_type": "stream",
          "text": [
            "I AM FLYING TO LONDON\n"
          ],
          "name": "stdout"
        }
      ]
    },
    {
      "cell_type": "markdown",
      "metadata": {
        "id": "fP6pZZuKzQCi"
      },
      "source": [
        "Great job! Slicing is fun."
      ]
    },
    {
      "cell_type": "markdown",
      "metadata": {
        "id": "c6usrDFvzQCj"
      },
      "source": [
        "## Functions\n",
        "\n",
        "Declare a function named square, which takes an input as x, and returns the square of x.\n",
        "\n",
        "Reference:- https://youtu.be/Rpq9MC67M08\n",
        "\n",
        "<p style='text-align: right;'> 5 + 3 = 8 points </p>\n"
      ]
    },
    {
      "cell_type": "code",
      "metadata": {
        "id": "q3JMXyvQzQCj"
      },
      "source": [
        "def square(x):\n",
        "   y = x ** 2\n",
        "   print('Square of %s is %s'%(x,y)) \n",
        "   return\n",
        "    "
      ],
      "execution_count": null,
      "outputs": []
    },
    {
      "cell_type": "markdown",
      "metadata": {
        "id": "ftrokTvCzQCk"
      },
      "source": [
        "Call the function to find the value of square of 9."
      ]
    },
    {
      "cell_type": "code",
      "metadata": {
        "id": "pLUe2I7UzQCk",
        "colab": {
          "base_uri": "https://localhost:8080/"
        },
        "outputId": "f76728de-c9fb-467c-84bd-85a110629907"
      },
      "source": [
        "# find the square of 9 using the function square you have just created.\n",
        "square(9)"
      ],
      "execution_count": null,
      "outputs": [
        {
          "output_type": "stream",
          "text": [
            "Square of 9 is 81\n"
          ],
          "name": "stdout"
        }
      ]
    },
    {
      "cell_type": "markdown",
      "metadata": {
        "id": "IGbDcV3QzQCl"
      },
      "source": [
        "Wohoo! see, defining function was simple"
      ]
    },
    {
      "cell_type": "markdown",
      "metadata": {
        "id": "PKELl4D5zQCl"
      },
      "source": [
        "#### Define another function which checks whether a given is number is odd or even for a given input and it should print whether the  number is odd or even as an output\n",
        "<p style='text-align: right;'> 5 + 3 = 8 points </p>\n"
      ]
    },
    {
      "cell_type": "code",
      "metadata": {
        "id": "iN1MZ5zRzQCm"
      },
      "source": [
        "# your code here\n",
        "def evenodd(x):\n",
        "   y = x ** 2\n",
        "   if (y % 2) == 0:\n",
        "      print(\"{0} is even\".format(y))\n",
        "   else:\n",
        "      print(\"{0} is odd\".format(y)) \n",
        "   return\n"
      ],
      "execution_count": null,
      "outputs": []
    },
    {
      "cell_type": "markdown",
      "metadata": {
        "id": "V2R_G-stzQCm"
      },
      "source": [
        "Hey smarty! lets use both the functions together to check whether the square of 3,6 and 21 are odd or even.\n"
      ]
    },
    {
      "cell_type": "code",
      "metadata": {
        "id": "I8gpOl8pzQCn",
        "colab": {
          "base_uri": "https://localhost:8080/"
        },
        "outputId": "dfa33ae4-4c65-4339-fb7d-21bee3887d87"
      },
      "source": [
        " # your code here\n",
        "evenodd(3)\n",
        "evenodd(6)\n",
        "evenodd(21)"
      ],
      "execution_count": null,
      "outputs": [
        {
          "output_type": "stream",
          "text": [
            "9 is odd\n",
            "36 is even\n",
            "441 is odd\n"
          ],
          "name": "stdout"
        }
      ]
    },
    {
      "cell_type": "markdown",
      "metadata": {
        "id": "r02dKKdfzQCo"
      },
      "source": [
        "hey hey! You did a great code. Did you see the benefit of using functions"
      ]
    },
    {
      "cell_type": "markdown",
      "metadata": {
        "id": "_5pFf60VzQCo"
      },
      "source": [
        "# Loops and Iterations\n",
        "Reference:- https://youtu.be/6iF8Xb7Z3wQ"
      ]
    },
    {
      "cell_type": "markdown",
      "metadata": {
        "id": "CmvFpJhFzQCo"
      },
      "source": [
        "## If statement\n",
        "\n",
        "<p style='text-align: right;'> 1 + 2 + 3 = 6 points </p>\n"
      ]
    },
    {
      "cell_type": "code",
      "metadata": {
        "id": "b5cgpKl2zQCp",
        "colab": {
          "base_uri": "https://localhost:8080/"
        },
        "outputId": "3595d481-b12d-4108-ca5e-bb828f8cd232"
      },
      "source": [
        "#Declare a variable x equal to a number of your choice.\n",
        "#your code here\n",
        "x = 3 # add a number of your choice (mine is 3 :) )\n",
        "print(x)"
      ],
      "execution_count": null,
      "outputs": [
        {
          "output_type": "stream",
          "text": [
            "3\n"
          ],
          "name": "stdout"
        }
      ]
    },
    {
      "cell_type": "code",
      "metadata": {
        "id": "n3mrxtfvzQCq",
        "colab": {
          "base_uri": "https://localhost:8080/"
        },
        "outputId": "c0b54f19-aad1-47fe-bbaf-c2e5a1e1e0fb"
      },
      "source": [
        "#Using an if statement, print whether x is zero, positive or negative.\n",
        "if x == 0:\n",
        "   print ('%s is zero'%(x))\n",
        "elif x > 0:\n",
        "   print ('%s is positive'%(x))\n",
        "else:\n",
        "   print ('%s is negative'%(x))\n"
      ],
      "execution_count": null,
      "outputs": [
        {
          "output_type": "stream",
          "text": [
            "3 is positive\n"
          ],
          "name": "stdout"
        }
      ]
    },
    {
      "cell_type": "code",
      "metadata": {
        "id": "2XO_uuc9zQCr",
        "colab": {
          "base_uri": "https://localhost:8080/"
        },
        "outputId": "eded612a-5480-42dd-e5a9-5fa2b23e62ba"
      },
      "source": [
        "# Now Define a function, which takes input from the user and prints whether the given input is zero,positive or negative.\n",
        "def check_num(x):\n",
        "  if x == 0:\n",
        "     print ('%s is zero'%(x))\n",
        "  elif x > 0:\n",
        "     print ('%s is positive'%(x))\n",
        "  else:\n",
        "     print ('%s is negative'%(x)) \n",
        "  return\n",
        "\n",
        "x = int(input(\"Enter your value: \"))\n",
        "check_num(x)\n"
      ],
      "execution_count": null,
      "outputs": [
        {
          "output_type": "stream",
          "text": [
            "Enter your value: 12\n",
            "12 is positive\n"
          ],
          "name": "stdout"
        }
      ]
    },
    {
      "cell_type": "markdown",
      "metadata": {
        "id": "VxUnZn2EzQCr"
      },
      "source": [
        "## For loop"
      ]
    },
    {
      "cell_type": "markdown",
      "metadata": {
        "id": "Km7R_g6xzQCs"
      },
      "source": [
        "<p style='text-align: right;'> 2 points </p>\n"
      ]
    },
    {
      "cell_type": "code",
      "metadata": {
        "id": "HQ2NPWDYzQCs"
      },
      "source": [
        "#Create a list x, such that it contains the elements - ‘India’, ‘Israel’,’Canada’.\n",
        "x = ['India','Israel','Canada']"
      ],
      "execution_count": null,
      "outputs": []
    },
    {
      "cell_type": "code",
      "metadata": {
        "id": "kbtbcFQWzQCs",
        "colab": {
          "base_uri": "https://localhost:8080/"
        },
        "outputId": "6f6d32a5-99c8-47a5-c51e-f9499b1a664e"
      },
      "source": [
        "#Using For loop, iterate over the list and print the elements.\n",
        "\n",
        "length = len(x)\n",
        "  \n",
        "for i in range(length):\n",
        "    print(x[i])"
      ],
      "execution_count": null,
      "outputs": [
        {
          "output_type": "stream",
          "text": [
            "India\n",
            "Israel\n",
            "Canada\n"
          ],
          "name": "stdout"
        }
      ]
    },
    {
      "cell_type": "markdown",
      "metadata": {
        "id": "fQXcS7mSzQCt"
      },
      "source": [
        "<p style='text-align: right;'> 2 points </p>\n"
      ]
    },
    {
      "cell_type": "code",
      "metadata": {
        "id": "EWBbGMIrzQCt",
        "colab": {
          "base_uri": "https://localhost:8080/"
        },
        "outputId": "e1f62966-be76-45ce-ba78-f357b98a7d39"
      },
      "source": [
        "# Using For loop, print the table of 2.\n",
        "x= range (1,11)\n",
        "y= 2\n",
        "\n",
        "for i in x:\n",
        "    print(y ,'*',i,'=',i*y)"
      ],
      "execution_count": null,
      "outputs": [
        {
          "output_type": "stream",
          "text": [
            "2 * 1 = 2\n",
            "2 * 2 = 4\n",
            "2 * 3 = 6\n",
            "2 * 4 = 8\n",
            "2 * 5 = 10\n",
            "2 * 6 = 12\n",
            "2 * 7 = 14\n",
            "2 * 8 = 16\n",
            "2 * 9 = 18\n",
            "2 * 10 = 20\n"
          ],
          "name": "stdout"
        }
      ]
    },
    {
      "cell_type": "markdown",
      "metadata": {
        "id": "Um_0d_ZSzQCu"
      },
      "source": [
        "For a given list, x = [21, ‘hello,’cream’, 20,19,’village’], using for loop to iterate over the items and using - if statement print the items that are of type int"
      ]
    },
    {
      "cell_type": "code",
      "metadata": {
        "id": "tpPdEhQ_zQCu",
        "colab": {
          "base_uri": "https://localhost:8080/"
        },
        "outputId": "e483ffbc-2db4-4ddc-c14e-e73d11555787"
      },
      "source": [
        "#code here\n",
        "x = [21, 'hello','cream', 20,19,'village']\n",
        "length = len(x)\n",
        "for i in range(length):\n",
        "  if type(x[i]) == int:\n",
        "    print (x[i])\n",
        "    \n",
        "    "
      ],
      "execution_count": null,
      "outputs": [
        {
          "output_type": "stream",
          "text": [
            "21\n",
            "20\n",
            "19\n"
          ],
          "name": "stdout"
        }
      ]
    },
    {
      "cell_type": "markdown",
      "metadata": {
        "id": "qp0jn_bAzQCu"
      },
      "source": [
        ""
      ]
    },
    {
      "cell_type": "markdown",
      "metadata": {
        "id": "nO8a6pNRzQCv"
      },
      "source": [
        "<p style='text-align: right;'> 10 points </p>\n"
      ]
    },
    {
      "cell_type": "code",
      "metadata": {
        "id": "blLDz-CUzQCv",
        "colab": {
          "base_uri": "https://localhost:8080/"
        },
        "outputId": "4a3c2e54-3ea0-4498-ab09-e17126a70aa0"
      },
      "source": [
        "# print the following pattern\n",
        "for i in range (0,5):\n",
        "   for j in range(0, i+1):\n",
        "     print (\"*\",end= \" \")\n",
        "   print(\"\\r\")"
      ],
      "execution_count": null,
      "outputs": [
        {
          "output_type": "stream",
          "text": [
            "* \r\n",
            "* * \r\n",
            "* * * \r\n",
            "* * * * \r\n",
            "* * * * * \r\n"
          ],
          "name": "stdout"
        }
      ]
    },
    {
      "cell_type": "markdown",
      "metadata": {
        "id": "6tLRASQUzQCv"
      },
      "source": [
        "## While loop"
      ]
    },
    {
      "cell_type": "markdown",
      "metadata": {
        "id": "C-Q67dv8zQCw"
      },
      "source": [
        "- Using while loop make a function that prints all the values between 1 to n. "
      ]
    },
    {
      "cell_type": "markdown",
      "metadata": {
        "id": "ooehw800zQCw"
      },
      "source": [
        "<p style='text-align: right;'> 10 points </p>\n"
      ]
    },
    {
      "cell_type": "code",
      "metadata": {
        "id": "0tFo7xz4zQCw"
      },
      "source": [
        "def counter(n):\n",
        " # add your code here\n",
        "    i = 1\n",
        "    while(i<n):\n",
        "      print(i)\n",
        "      i += 1 "
      ],
      "execution_count": null,
      "outputs": []
    },
    {
      "cell_type": "code",
      "metadata": {
        "id": "dn82QNNYzQCx",
        "colab": {
          "base_uri": "https://localhost:8080/"
        },
        "outputId": "6c8d5403-55c5-405f-a337-fd4bd87fac25"
      },
      "source": [
        "counter(10) #this should print numbers from 1 to 10"
      ],
      "execution_count": null,
      "outputs": [
        {
          "output_type": "stream",
          "text": [
            "1\n",
            "2\n",
            "3\n",
            "4\n",
            "5\n",
            "6\n",
            "7\n",
            "8\n",
            "9\n"
          ],
          "name": "stdout"
        }
      ]
    },
    {
      "cell_type": "markdown",
      "metadata": {
        "id": "cmqsa_BxzQCx"
      },
      "source": [
        "### Write the code for the following, what is the output obtained?\n",
        "- Set a variable flag = True, num = 5\n",
        "- Run a while loop till flag = True\n",
        "- Inside the while loop - \n",
        "    - Increment the value of num by 5\n",
        "    - If value of num is greater then 50, set flag to be False"
      ]
    },
    {
      "cell_type": "code",
      "metadata": {
        "id": "yVZ5MTtlzQCy",
        "colab": {
          "base_uri": "https://localhost:8080/"
        },
        "outputId": "bd2edca1-063d-4e69-ca47-203c64f81093"
      },
      "source": [
        "# your code here\n",
        "flag = True\n",
        "i=5\n",
        "while(flag==True):\n",
        "  print(i)\n",
        "  i += 5 \n",
        "  if i>50:\n",
        "    flag=False"
      ],
      "execution_count": null,
      "outputs": [
        {
          "output_type": "stream",
          "text": [
            "5\n",
            "10\n",
            "15\n",
            "20\n",
            "25\n",
            "30\n",
            "35\n",
            "40\n",
            "45\n",
            "50\n"
          ],
          "name": "stdout"
        }
      ]
    },
    {
      "cell_type": "markdown",
      "metadata": {
        "id": "bNerGpvWzQCy"
      },
      "source": [
        "# Intermediate programming questions\n",
        "\n",
        "<p style='text-align: right;'> 160 points </p>\n"
      ]
    },
    {
      "cell_type": "markdown",
      "metadata": {
        "id": "CeI4HFg8zQCy"
      },
      "source": [
        "Lets remove duplicates from list names=['A','B','C','A','D','E','F','G','H','E','D']\n",
        "\n"
      ]
    },
    {
      "cell_type": "code",
      "metadata": {
        "id": "MsrNSwOXzQCz",
        "colab": {
          "base_uri": "https://localhost:8080/"
        },
        "outputId": "c68483c1-d082-4d19-c448-34cb6bb3a766"
      },
      "source": [
        "#code here\n",
        "from collections import OrderedDict\n",
        "names=['A','B','C','A','D','E','F','G','H','E','D']\n",
        "res = list(OrderedDict.fromkeys(names))\n",
        "print (res)"
      ],
      "execution_count": null,
      "outputs": [
        {
          "output_type": "stream",
          "text": [
            "['A', 'B', 'C', 'D', 'E', 'F', 'G', 'H']\n"
          ],
          "name": "stdout"
        }
      ]
    },
    {
      "cell_type": "markdown",
      "metadata": {
        "id": "OSxXBDNXzQCz"
      },
      "source": [
        "Good! Shall we try solving above problem in shhorter way using list comprehention? It will be amazing. Here we go!\n",
        "\n"
      ]
    },
    {
      "cell_type": "code",
      "metadata": {
        "id": "ng395ImBzQCz",
        "colab": {
          "base_uri": "https://localhost:8080/"
        },
        "outputId": "65c8e6ed-32c7-4935-bc70-bd2cc4516b61"
      },
      "source": [
        "names=['A','B','C','A','D','E','F','G','H','E','D']\n",
        "res = []\n",
        "[res.append(x) for x in names if x not in res]\n",
        "  \n",
        "# printing list after removal \n",
        "print (\"The list after removing duplicates : \" + str(res))"
      ],
      "execution_count": null,
      "outputs": [
        {
          "output_type": "stream",
          "text": [
            "The list after removing duplicates : ['A', 'B', 'C', 'D', 'E', 'F', 'G', 'H']\n"
          ],
          "name": "stdout"
        }
      ]
    },
    {
      "cell_type": "markdown",
      "metadata": {
        "id": "fQdwjXlQzQC0"
      },
      "source": [
        "define a funtion 'occurence' which takes 2 inputs, one list 'lst' and another one a number 'n' and count the number of occurrences of n in your list lst."
      ]
    },
    {
      "cell_type": "code",
      "metadata": {
        "id": "mLcTQkjPzQC0",
        "colab": {
          "base_uri": "https://localhost:8080/"
        },
        "outputId": "6980f8be-ffad-4a49-9911-92b5b282cf36"
      },
      "source": [
        "#your code\n",
        "def occurence(numbers,num):\n",
        "  i=0\n",
        "  for x in numbers:\n",
        "    if x== num:\n",
        "      i=i+1\n",
        "  print (i)\n",
        " \n",
        "#lets use your function\n",
        "occurence([2,3,4,8,1,3,5,2,1,3,1,2,2], 2)"
      ],
      "execution_count": null,
      "outputs": [
        {
          "output_type": "stream",
          "text": [
            "4\n"
          ],
          "name": "stdout"
        }
      ]
    },
    {
      "cell_type": "markdown",
      "metadata": {
        "id": "orMOHq-9zQC1"
      },
      "source": [
        "Calculate factorial of a number ( Here number=3) using while loop"
      ]
    },
    {
      "cell_type": "code",
      "metadata": {
        "id": "qUAk395LzQC2",
        "colab": {
          "base_uri": "https://localhost:8080/"
        },
        "outputId": "cfcbd771-1228-40da-d43d-a89f33c9b041"
      },
      "source": [
        "number = 3\n",
        "#your code here\n",
        "x=number\n",
        "while (number != 1):\n",
        "  x= x * (number-1)\n",
        "  number=number-1\n",
        "print (x)\n"
      ],
      "execution_count": null,
      "outputs": [
        {
          "output_type": "stream",
          "text": [
            "6\n"
          ],
          "name": "stdout"
        }
      ]
    },
    {
      "cell_type": "markdown",
      "metadata": {
        "id": "kNvKhjWKzQC3"
      },
      "source": [
        "Reverse a given integer number num = 47594038222 and display the count of total number of digits in your revered number using while loop."
      ]
    },
    {
      "cell_type": "code",
      "metadata": {
        "id": "cstfQXXCzQC3",
        "colab": {
          "base_uri": "https://localhost:8080/"
        },
        "outputId": "97c441ed-fc9a-4dff-aa36-d5e2901eb780"
      },
      "source": [
        "# Your code here\n",
        "num = 47594038222 \n",
        "rev = 0\n",
        "i=0\n",
        " \n",
        "while(num > 0):\n",
        "    a = num % 10\n",
        "    rev = rev * 10 + a\n",
        "    num = num // 10\n",
        "    i=i+1\n",
        " \n",
        "print('Total number of digits in ',rev, 'are ', i)\n",
        "\n"
      ],
      "execution_count": null,
      "outputs": [
        {
          "output_type": "stream",
          "text": [
            "Total number of digits in  22283049574 are  11\n"
          ],
          "name": "stdout"
        }
      ]
    },
    {
      "cell_type": "markdown",
      "metadata": {
        "id": "AYZepLb4zQC5"
      },
      "source": [
        "Can you reverse you given num without using loop in just one line?\n",
        "\n",
        "Hint: apply some slicing trick to do it."
      ]
    },
    {
      "cell_type": "code",
      "metadata": {
        "id": "itRq2Rs-zQC5",
        "colab": {
          "base_uri": "https://localhost:8080/"
        },
        "outputId": "a541023b-8184-44bb-eada-9bb0271562a8"
      },
      "source": [
        "num = 47594038222\n",
        "\n",
        "#one line code here\n",
        "print('Reverse of the given number is : ', str(num)[::-1])\n"
      ],
      "execution_count": null,
      "outputs": [
        {
          "output_type": "stream",
          "text": [
            "Reverse of the given number is :  22283049574\n"
          ],
          "name": "stdout"
        }
      ]
    },
    {
      "cell_type": "markdown",
      "metadata": {
        "id": "voybGDQPzQC6"
      },
      "source": [
        "Write a function that checks whether a given sequence of number is IP address or not and print all valid possible IP from a given digit. If not an IP then it prints empty list"
      ]
    },
    {
      "cell_type": "code",
      "metadata": {
        "id": "wDyvxhL4zQC6",
        "colab": {
          "base_uri": "https://localhost:8080/",
          "height": 357
        },
        "outputId": "72c8ddc5-d8fb-402c-b6ba-891323e1f7db"
      },
      "source": [
        "#code goes here\n",
        "\n",
        "def ipvalid(ip): \n",
        "   # Spliting by \".\" \n",
        "   ip = ip.split(\".\") \n",
        "      \n",
        "   # Checking for the corner cases \n",
        "   for x in ip: \n",
        "    if len(x) > 3 or int(x)< 0 or int(x) > 255: \n",
        "        return False\n",
        "    if len(x) > 1 and int(x) == 0: \n",
        "      return False\n",
        "    if len(x) > 1 and int(x) != 0 and x[0] == '0': \n",
        "      return False\n",
        "    \n",
        "   return True\n",
        "  \n",
        "# Function converts string to IP address \n",
        "def convert(A): \n",
        "   con = len(A) \n",
        "\n",
        "   # Check for string size \n",
        "   if con > 12: \n",
        "      return [] \n",
        "   newip = A \n",
        "   l = [] \n",
        "\n",
        "   # Generating different combinations. \n",
        "   for i in range(1, con - 2): \n",
        "      for j in range(i + 1, con - 1): \n",
        "         for k in range(j + 1, con): \n",
        "            newip = newip[:k] + \".\" + newip[k:] \n",
        "            newip = newip[:j] + \".\" + newip[j:] \n",
        "            newip = newip[:i] + \".\" + newip[i:] \n",
        "\n",
        "            # Check for the validity of combination \n",
        "            if ipvalid(newip): \n",
        "               l.append(newip) \n",
        "               newip = A \n",
        "   return l  \n",
        "   \n",
        "\n",
        "# Check your code with below numbers    \n",
        "A = \"25525511135\"\n",
        "B = \"25505011536\"\n",
        " \n",
        "print(convert(A))\n",
        "print(convert(B))"
      ],
      "execution_count": null,
      "outputs": [
        {
          "output_type": "error",
          "ename": "ValueError",
          "evalue": "ignored",
          "traceback": [
            "\u001b[0;31m---------------------------------------------------------------------------\u001b[0m",
            "\u001b[0;31mValueError\u001b[0m                                Traceback (most recent call last)",
            "\u001b[0;32m<ipython-input-27-59b85b025b6f>\u001b[0m in \u001b[0;36m<module>\u001b[0;34m()\u001b[0m\n\u001b[1;32m     45\u001b[0m \u001b[0mB\u001b[0m \u001b[0;34m=\u001b[0m \u001b[0;34m\"25505011536\"\u001b[0m\u001b[0;34m\u001b[0m\u001b[0;34m\u001b[0m\u001b[0m\n\u001b[1;32m     46\u001b[0m \u001b[0;34m\u001b[0m\u001b[0m\n\u001b[0;32m---> 47\u001b[0;31m \u001b[0mprint\u001b[0m\u001b[0;34m(\u001b[0m\u001b[0mconvert\u001b[0m\u001b[0;34m(\u001b[0m\u001b[0mA\u001b[0m\u001b[0;34m)\u001b[0m\u001b[0;34m)\u001b[0m\u001b[0;34m\u001b[0m\u001b[0;34m\u001b[0m\u001b[0m\n\u001b[0m\u001b[1;32m     48\u001b[0m \u001b[0mprint\u001b[0m\u001b[0;34m(\u001b[0m\u001b[0mconvert\u001b[0m\u001b[0;34m(\u001b[0m\u001b[0mB\u001b[0m\u001b[0;34m)\u001b[0m\u001b[0;34m)\u001b[0m\u001b[0;34m\u001b[0m\u001b[0;34m\u001b[0m\u001b[0m\n",
            "\u001b[0;32m<ipython-input-27-59b85b025b6f>\u001b[0m in \u001b[0;36mconvert\u001b[0;34m(A)\u001b[0m\n\u001b[1;32m     35\u001b[0m \u001b[0;34m\u001b[0m\u001b[0m\n\u001b[1;32m     36\u001b[0m             \u001b[0;31m# Check for the validity of combination\u001b[0m\u001b[0;34m\u001b[0m\u001b[0;34m\u001b[0m\u001b[0;34m\u001b[0m\u001b[0m\n\u001b[0;32m---> 37\u001b[0;31m             \u001b[0;32mif\u001b[0m \u001b[0mipvalid\u001b[0m\u001b[0;34m(\u001b[0m\u001b[0mnewip\u001b[0m\u001b[0;34m)\u001b[0m\u001b[0;34m:\u001b[0m\u001b[0;34m\u001b[0m\u001b[0;34m\u001b[0m\u001b[0m\n\u001b[0m\u001b[1;32m     38\u001b[0m                \u001b[0ml\u001b[0m\u001b[0;34m.\u001b[0m\u001b[0mappend\u001b[0m\u001b[0;34m(\u001b[0m\u001b[0mnewip\u001b[0m\u001b[0;34m)\u001b[0m\u001b[0;34m\u001b[0m\u001b[0;34m\u001b[0m\u001b[0m\n\u001b[1;32m     39\u001b[0m                \u001b[0mnewip\u001b[0m \u001b[0;34m=\u001b[0m \u001b[0mA\u001b[0m\u001b[0;34m\u001b[0m\u001b[0;34m\u001b[0m\u001b[0m\n",
            "\u001b[0;32m<ipython-input-27-59b85b025b6f>\u001b[0m in \u001b[0;36mipvalid\u001b[0;34m(ip)\u001b[0m\n\u001b[1;32m      7\u001b[0m    \u001b[0;31m# Checking for the corner cases\u001b[0m\u001b[0;34m\u001b[0m\u001b[0;34m\u001b[0m\u001b[0;34m\u001b[0m\u001b[0m\n\u001b[1;32m      8\u001b[0m    \u001b[0;32mfor\u001b[0m \u001b[0mx\u001b[0m \u001b[0;32min\u001b[0m \u001b[0mip\u001b[0m\u001b[0;34m:\u001b[0m\u001b[0;34m\u001b[0m\u001b[0;34m\u001b[0m\u001b[0m\n\u001b[0;32m----> 9\u001b[0;31m     \u001b[0;32mif\u001b[0m \u001b[0mlen\u001b[0m\u001b[0;34m(\u001b[0m\u001b[0mx\u001b[0m\u001b[0;34m)\u001b[0m \u001b[0;34m>\u001b[0m \u001b[0;36m3\u001b[0m \u001b[0;32mor\u001b[0m \u001b[0mint\u001b[0m\u001b[0;34m(\u001b[0m\u001b[0mx\u001b[0m\u001b[0;34m)\u001b[0m\u001b[0;34m<\u001b[0m \u001b[0;36m0\u001b[0m \u001b[0;32mor\u001b[0m \u001b[0mint\u001b[0m\u001b[0;34m(\u001b[0m\u001b[0mx\u001b[0m\u001b[0;34m)\u001b[0m \u001b[0;34m>\u001b[0m \u001b[0;36m255\u001b[0m\u001b[0;34m:\u001b[0m\u001b[0;34m\u001b[0m\u001b[0;34m\u001b[0m\u001b[0m\n\u001b[0m\u001b[1;32m     10\u001b[0m         \u001b[0;32mreturn\u001b[0m \u001b[0;32mFalse\u001b[0m\u001b[0;34m\u001b[0m\u001b[0;34m\u001b[0m\u001b[0m\n\u001b[1;32m     11\u001b[0m     \u001b[0;32mif\u001b[0m \u001b[0mlen\u001b[0m\u001b[0;34m(\u001b[0m\u001b[0mx\u001b[0m\u001b[0;34m)\u001b[0m \u001b[0;34m>\u001b[0m \u001b[0;36m1\u001b[0m \u001b[0;32mand\u001b[0m \u001b[0mint\u001b[0m\u001b[0;34m(\u001b[0m\u001b[0mx\u001b[0m\u001b[0;34m)\u001b[0m \u001b[0;34m==\u001b[0m \u001b[0;36m0\u001b[0m\u001b[0;34m:\u001b[0m\u001b[0;34m\u001b[0m\u001b[0;34m\u001b[0m\u001b[0m\n",
            "\u001b[0;31mValueError\u001b[0m: invalid literal for int() with base 10: ''"
          ]
        }
      ]
    },
    {
      "cell_type": "markdown",
      "metadata": {
        "id": "jT7a9YPSzQC7"
      },
      "source": [
        "Solve the quadratic equation ax**2 + bx + c = 0 where a =4, b=6, c=2"
      ]
    },
    {
      "cell_type": "code",
      "metadata": {
        "id": "6uKqczFSzQC7",
        "colab": {
          "base_uri": "https://localhost:8080/"
        },
        "outputId": "616278ec-7226-4c97-f349-198ac38fd72e"
      },
      "source": [
        "# code here\n",
        "# Solve the quadratic equation ax**2 + bx + c = 0\n",
        "\n",
        "# import complex math module\n",
        "import math\n",
        "\n",
        "a = 4\n",
        "b = 6\n",
        "c = 2\n",
        "\n",
        "# calculate the discriminant\n",
        "d = (b**2) - (4*a*c)\n",
        "\n",
        "# find two solutions\n",
        "sol1 = (-b-math.sqrt(d))/(2*a)\n",
        "sol2 = (-b+math.sqrt(d))/(2*a)\n",
        "\n",
        "print('The solution are {0} and {1}'.format(sol1,sol2))\n",
        "\n"
      ],
      "execution_count": null,
      "outputs": [
        {
          "output_type": "stream",
          "text": [
            "The solution are -1.0 and -0.5\n"
          ],
          "name": "stdout"
        }
      ]
    },
    {
      "cell_type": "markdown",
      "metadata": {
        "id": "98SjJU7bzQC7"
      },
      "source": [
        "Write a program to Remove Punctuations From a String \n",
        "\n",
        "    s=\"Wow!!!, we are going ahead with our course to learn *machine learning* ---are'nt you excited? :)\""
      ]
    },
    {
      "cell_type": "code",
      "metadata": {
        "id": "Fn0fJHR5zQC8",
        "colab": {
          "base_uri": "https://localhost:8080/"
        },
        "outputId": "3d691847-78d0-42ce-eee2-b97ce188f817"
      },
      "source": [
        "#code here\n",
        "\n",
        "# initializing string\n",
        "s = \"Wow!!!, we are going ahead with our course to learn *machine learning* ---are'nt you excited? :)\"\n",
        "  \n",
        "# initializing punctuations string \n",
        "punc = '''!()-[]{};:'\"\\,<>./?@#$%^&*_~'''\n",
        "  \n",
        "# Removing punctuations in string\n",
        "# Using loop + punctuation string\n",
        "for ele in s: \n",
        "    if ele in punc: \n",
        "        s = s.replace(ele, \"\") \n",
        "  \n",
        "# printing result \n",
        "print(s) "
      ],
      "execution_count": null,
      "outputs": [
        {
          "output_type": "stream",
          "text": [
            "Wow we are going ahead with our course to learn machine learning arent you excited \n"
          ],
          "name": "stdout"
        }
      ]
    },
    {
      "cell_type": "markdown",
      "metadata": {
        "id": "Ag4GoWIKzQC8"
      },
      "source": [
        "Write a program which takes 2 digits, X,Y as input and generates a 2-dimensional array. The element value in the i-th row and j-th column of the array should be i*j.\n",
        "\n",
        "Note: i=0,1.., X-1; j=0,1,i^Y-1."
      ]
    },
    {
      "cell_type": "code",
      "metadata": {
        "id": "9lHmCFf4zQC9",
        "colab": {
          "base_uri": "https://localhost:8080/"
        },
        "outputId": "d41a624b-5e0c-4009-e7a2-1938a418d2d7"
      },
      "source": [
        "digit1=3\n",
        "digit2=4\n",
        "\n",
        "\n",
        "#code here\n",
        "rows, cols = (3, 4)\n",
        "arr=[]\n",
        "for i in range(rows):\n",
        "    col = []\n",
        "    for j in range(cols):\n",
        "        col.append((i)*(j))\n",
        "    arr.append(col)\n",
        "print(arr)\n"
      ],
      "execution_count": null,
      "outputs": [
        {
          "output_type": "stream",
          "text": [
            "[[0, 0, 0, 0], [0, 1, 2, 3], [0, 2, 4, 6]]\n"
          ],
          "name": "stdout"
        }
      ]
    },
    {
      "cell_type": "markdown",
      "metadata": {
        "id": "r6ViNyRtzQC9"
      },
      "source": [
        "Write a function 'solve_coin_change' which takes list of denomibations and amount and checks number of you can make change with coins and a total amount"
      ]
    },
    {
      "cell_type": "code",
      "metadata": {
        "id": "1vZHjMDtzQC9",
        "colab": {
          "base_uri": "https://localhost:8080/"
        },
        "outputId": "08350d3b-d440-4eac-d1b3-935c4ea705da"
      },
      "source": [
        "#code here\n",
        "\n",
        "def solve_coin_change(Coins,N):\n",
        " \n",
        "    # Create the ways array to 1 plus the amount\n",
        "    # to stop overflow\n",
        "    ways = [0] * (N + 1);\n",
        "    \n",
        "    # Set the first way to 1 because its 0 and\n",
        "    # there is 1 way to make 0 with 0 coins\n",
        "    ways[0] = 1;\n",
        " \n",
        "    # Go through all of the coins\n",
        "    for i in range(len(Coins)):\n",
        " \n",
        "        # Make a comparison to each index value\n",
        "        # of ways with the coin value.\n",
        "        for j in range(len(ways)):\n",
        "            if (Coins[i] <= j):\n",
        " \n",
        "                # Update the ways array\n",
        "                ways[j] += ways[(int)(j - Coins[i])];\n",
        " \n",
        "    # return the value at the Nth position\n",
        "    # of the ways array.\n",
        "    return ways[N];\n",
        "\n",
        "# Checking your code\n",
        "print(solve_coin_change([1, 5, 10],20))\n",
        "print(solve_coin_change([1, 2, 5],7))"
      ],
      "execution_count": null,
      "outputs": [
        {
          "output_type": "stream",
          "text": [
            "[0, 0, 0, 0, 0, 0, 0, 0, 0, 0, 0, 0, 0, 0, 0, 0, 0, 0, 0, 0, 0]\n",
            "9\n",
            "[0, 0, 0, 0, 0, 0, 0, 0]\n",
            "6\n"
          ],
          "name": "stdout"
        }
      ]
    },
    {
      "cell_type": "markdown",
      "metadata": {
        "id": "2EhYbPOgzQC-"
      },
      "source": [
        "For given string S and integers P and Q, which denotes the cost of removal of substrings “he” and “lo” respectively from S, the task is to find the maximum cost of removing all occurrences of substrings “he” and “lo”.\n",
        "\n",
        "example if S = “hellohellohellohellohello”, P = 6, Q = 4, then cost to remove 'he' and 'lo' is 50"
      ]
    },
    {
      "cell_type": "code",
      "metadata": {
        "id": "_BEcN512zQC-",
        "colab": {
          "base_uri": "https://localhost:8080/"
        },
        "outputId": "1284906f-b34a-4a2e-c8e4-ed2d972130c6"
      },
      "source": [
        "#code here\n",
        "\n",
        "def MaxCollection(S, P, Q):\n",
        "   \n",
        "    # MaxStr is the substring char\n",
        "    # array with larger cost\n",
        "    maxstr = [i for i in (\"he\" if P >= Q else \"he\")]\n",
        "     \n",
        "    # MinStr is the substring char\n",
        "    # array with smaller cost;\n",
        "    minstr = [i for i in (\"lo\" if P >= Q else \"lo\")]\n",
        " \n",
        "    # Denotes larger point\n",
        "    maxp = max(P, Q)\n",
        " \n",
        "    # Denotes smaller point\n",
        "    minp = min(P, Q)\n",
        " \n",
        "    # Stores cost scored\n",
        "    cost = 0\n",
        " \n",
        "    # Removing all occurrences of\n",
        "    # maxstr from the S\n",
        " \n",
        "    # Stack to keep track of characters\n",
        "    stack1 = []\n",
        "    s = [i for i in S]\n",
        "    # Traverse the string\n",
        "    for ch in s:\n",
        " \n",
        "        # If the substring is maxstr\n",
        " \n",
        "        if (len(stack1)>0 and (stack1[-1] == maxstr[0] and ch == maxstr[1])):\n",
        " \n",
        "            # Pop from the stack\n",
        "            del stack1[-1]\n",
        " \n",
        "            # Add maxp to cost\n",
        "            cost += maxp\n",
        " \n",
        "        # Push the character to the stack\n",
        "        else:\n",
        "            stack1.append(ch)\n",
        " \n",
        "    # Remaining string after removing maxstr\n",
        "    sb = \"\"\n",
        " \n",
        "    # Find remaining string\n",
        "    while (len(stack1) > 0):\n",
        "        sb += stack1[-1]\n",
        "        del stack1[-1]\n",
        " \n",
        "    # Reversing the string\n",
        "    # retrieved from the stack\n",
        "    sb = sb[::-1]\n",
        "    remstr = sb\n",
        " \n",
        "    # Removing all occurences of minstr\n",
        "    for ch in remstr:\n",
        " \n",
        "        # If the substring is minstr\n",
        "        if (len(stack1) > 0 and (stack1[-1] == minstr[0] and ch == minstr[1])):\n",
        " \n",
        "            #  Pop from the stack\n",
        "            del stack1[-1]\n",
        " \n",
        "            # Add minp to the cost\n",
        "            cost += minp\n",
        " \n",
        "        # Otherwise\n",
        "        else:\n",
        "            stack1.append(ch)\n",
        " \n",
        "    # Return the maximum cost\n",
        "    return cost\n",
        " \n",
        "# Check code with \n",
        "\n",
        "S = \"hellohellohellohellohello\"\n",
        "\n",
        "# Costs\n",
        "P = 6;\n",
        "Q = 4;\n",
        "\n",
        "print(MaxCollection(S, P, Q));\n"
      ],
      "execution_count": null,
      "outputs": [
        {
          "output_type": "stream",
          "text": [
            "50\n"
          ],
          "name": "stdout"
        }
      ]
    },
    {
      "cell_type": "markdown",
      "metadata": {
        "id": "6EjmYifOzQC_"
      },
      "source": [
        "Write a function finalString such that smallest string is obtained by removing all occurrences of 01 and 11 from Binary String whic is taken as input parameter\n",
        "\n",
        "Example\n",
        "    \n",
        "    Input: S = “0010110”\n",
        "    Output: String = 0"
      ]
    },
    {
      "cell_type": "code",
      "metadata": {
        "id": "ZchVMSHWzQC_",
        "colab": {
          "base_uri": "https://localhost:8080/"
        },
        "outputId": "91d63af2-b05d-45f0-c633-5cfe37c623e3"
      },
      "source": [
        "from collections import deque\n",
        " \n",
        "\n",
        "def finalString(s):\n",
        "    n= len(s)\n",
        "    \n",
        "    st = deque()\n",
        "     \n",
        "    \n",
        "    for i in range(n):\n",
        "       \n",
        "        \n",
        "        if (len(st) == 0):\n",
        "            st.append(s[i])\n",
        "         \n",
        "       \n",
        "        elif (s[i] == '1'):\n",
        "            st.pop()\n",
        "         \n",
        "        \n",
        "        else:\n",
        "            st.append(s[i])\n",
        "     \n",
        "    # Stores resultant string\n",
        "    ans = 0\n",
        "    finalStr = []\n",
        "    while (len(st) > 0):\n",
        "        ans += 1\n",
        "        finalStr.append(st[-1]);\n",
        "        st.pop()\n",
        "         \n",
        "    # Print the final string size\n",
        "    print(\"The final string size is: \", ans)\n",
        "     \n",
        "    # If length is not 0\n",
        "    if (ans == 0):\n",
        "        print(\"The final string is: EMPTY\")\n",
        "     \n",
        "    # Print the string\n",
        "    else:\n",
        "        print(\"The final string is: \", *finalStr)\n",
        "    \n",
        "\n",
        "\n",
        "# Check your function Code\n",
        "\n",
        "s=\"010110100100000\"\n",
        "finalString(s)"
      ],
      "execution_count": null,
      "outputs": [
        {
          "output_type": "stream",
          "text": [
            "The final string size is:  7\n",
            "The final string is:  0 0 0 0 0 0 1\n"
          ],
          "name": "stdout"
        }
      ]
    },
    {
      "cell_type": "markdown",
      "metadata": {
        "id": "fwOmpuONzQDA"
      },
      "source": [
        "Write a function such that it accepts two integers n, m as arguments Find the sum of all numbers in range from 1 to m(both inclusive) that are not divisible by n. Return difference between sum of integers not divisible by n with sum of numbers divisible by n\n",
        "\n",
        "Example\n",
        "\n",
        "    Input\n",
        "    n:4\n",
        "    m:20\n",
        "    Output\n",
        "    90"
      ]
    },
    {
      "cell_type": "code",
      "metadata": {
        "id": "B7n-9NwNzQDA",
        "colab": {
          "base_uri": "https://localhost:8080/"
        },
        "outputId": "40b109c5-405b-432e-fb0f-54cdb5caaa9f"
      },
      "source": [
        "#code here\n",
        "A = 1\n",
        "B = 20\n",
        "N = 4\n",
        "\n",
        "sum = 0\n",
        "dsum = 0 \n",
        "\n",
        "for i in range(A, B + 1):\n",
        " \n",
        "\n",
        "  if (i % N == 0):\n",
        "    sum += i\n",
        "  else: \n",
        "    dsum += i\n",
        " \n",
        "    # Return the sum\n",
        "print(dsum-sum)\n"
      ],
      "execution_count": null,
      "outputs": [
        {
          "output_type": "stream",
          "text": [
            "90\n"
          ],
          "name": "stdout"
        }
      ]
    },
    {
      "cell_type": "markdown",
      "metadata": {
        "id": "lM_rqBL8zQDB"
      },
      "source": [
        "Write a function count_code that return the number of times that the string \"code\" appears anywhere in the given string, except we'll accept any letter for the 'd', so \"cope\" and \"cooe\" count.\n",
        "\n",
        "\n",
        "    count_code('aaacodebbb') → 1\n",
        "    count_code('codexxcode') → 2\n",
        "    count_code('cozexxcope') → 2"
      ]
    },
    {
      "cell_type": "code",
      "metadata": {
        "id": "4l9LQqI6zQDB",
        "colab": {
          "base_uri": "https://localhost:8080/"
        },
        "outputId": "72c53ccc-fe0b-4aa7-b8ae-157864e1209a"
      },
      "source": [
        "#your code here \n",
        "def count_code (test_str):\n",
        "  test_sub ='co'\n",
        "  res = test_str.count(test_sub)\n",
        "  return res \n",
        "  \n",
        "#check your code \n",
        "print(count_code('aaacodebbb'))\n",
        "print(count_code('codexxcode'))\n",
        "print(count_code('cozexxcope'))"
      ],
      "execution_count": null,
      "outputs": [
        {
          "output_type": "stream",
          "text": [
            "1\n",
            "2\n",
            "2\n"
          ],
          "name": "stdout"
        }
      ]
    },
    {
      "cell_type": "markdown",
      "metadata": {
        "id": "wCoyyEgozQDC"
      },
      "source": [
        "Lets have one moderate level question for you. \n",
        "\n",
        "Find the sum of the series 4 +44 + 444 + 4444 + .. n terms\n",
        "\n",
        "here keep n=5"
      ]
    },
    {
      "cell_type": "code",
      "metadata": {
        "id": "AbI29po1zQDC",
        "colab": {
          "base_uri": "https://localhost:8080/"
        },
        "outputId": "a592ea4c-5028-493b-ba23-135f9e5e89e2"
      },
      "source": [
        "#your code here\n",
        "n=5\n",
        "i=4\n",
        "sum=4\n",
        "add=4\n",
        "for j in range(n-1):\n",
        "  add = int(str(add) + str(i))\n",
        "  sum=sum + add\n",
        "  \n",
        "print(sum)\n",
        "\n"
      ],
      "execution_count": null,
      "outputs": [
        {
          "output_type": "stream",
          "text": [
            "49380\n"
          ],
          "name": "stdout"
        }
      ]
    },
    {
      "cell_type": "markdown",
      "metadata": {
        "id": "vPCzEsXAzQDC"
      },
      "source": [
        "Awsesome! Great job so far. Hope you fell in love with python now."
      ]
    },
    {
      "cell_type": "markdown",
      "metadata": {
        "id": "HkqXkXpZzQDD"
      },
      "source": [
        "----------------------------------------------------------------------"
      ]
    },
    {
      "cell_type": "markdown",
      "metadata": {
        "id": "PTw3EafTzQDD"
      },
      "source": [
        "# Smile, you completed the first milestone :)!! "
      ]
    },
    {
      "cell_type": "markdown",
      "metadata": {
        "id": "gTqZ7Bz9zQDD"
      },
      "source": [
        "# FeedBack\n",
        "We hope you’ve enjoyed this course so far. We’re committed to help you use \"AI for All\" course to its full potential, so that you have a great learning experience. And that’s why we need your help in form of a feedback here.\n",
        "\n",
        "Please fill this feedback form https://docs.google.com/forms/d/e/1FAIpQLSfjBmH0yJSSA34IhSVx4h2eDMgOAeG4Dk-yHid__NMTk3Hq5g/viewform"
      ]
    }
  ]
}